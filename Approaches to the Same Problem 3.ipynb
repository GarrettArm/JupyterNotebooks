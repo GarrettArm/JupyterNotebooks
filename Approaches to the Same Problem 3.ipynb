{
 "metadata": {
  "name": ""
 },
 "nbformat": 3,
 "nbformat_minor": 0,
 "worksheets": [
  {
   "cells": [
    {
     "cell_type": "heading",
     "level": 3,
     "metadata": {},
     "source": [
      "Problem 1"
     ]
    },
    {
     "cell_type": "raw",
     "metadata": {},
     "source": [
      "My script -- \n",
      "\n",
      "Stripping non-items.\n",
      "Looping popping pairs until len(list) == 1 or loop completes without finding a pair.\n",
      "\n",
      "The trouble is, you are iterating over the object you are mutating.  **dangerous**"
     ]
    },
    {
     "cell_type": "code",
     "collapsed": false,
     "input": [
      "def checkio(str_a):\n",
      "    bracket_set = ('(',')','[',']','{','}')\n",
      "    bracket_dict = {'(':')','[':']','{':'}'}\n",
      "    \n",
      "    # stripping out all the non-bracket items\n",
      "    for i in str_a:\n",
      "        if i in bracket_set:\n",
      "            continue\n",
      "        else:\n",
      "            str_a = str_a[:str_a.index(i)] + str_a[str_a.index(i)+1:]\n",
      "        \n",
      "    while str_a != '':\n",
      "        if len(str_a) == 1:\n",
      "            return False\n",
      "        else:\n",
      "            length = len(str_a)\n",
      "            found = False\n",
      "            for i in range(length):\n",
      "                if str_a[i] in bracket_dict:\n",
      "                    if str_a[i+1] == bracket_dict[str_a[i]]:\n",
      "                        str_a = str_a[:i] + str_a[i+2:]\n",
      "                        length -= 2\n",
      "                        found = True\n",
      "                if length -i < 3:\n",
      "                    if found == False:\n",
      "                        return False\n",
      "                    break\n",
      "                    \n",
      "    return True\n",
      "\n",
      "if __name__ == '__main__':\n",
      "    assert checkio(\"((5+3)*2+1)\") == True, \"Simple\"\n",
      "    assert checkio(\"{[(3+1)+2]+}\") == True, \"Different types\"\n",
      "    assert checkio(\"(3+{1-1)}\") == False, \") is alone inside {}\"\n",
      "    assert checkio(\"[1+1]+(2*2)-{3/3}\") == True, \"Different operators\"\n",
      "    assert checkio(\"(({[(((1)-2)+3)-3]/3}-3)\") == False, \"One is redundant\""
     ],
     "language": "python",
     "metadata": {},
     "outputs": [],
     "prompt_number": 2
    },
    {
     "cell_type": "raw",
     "metadata": {},
     "source": [
      "Pushing and popping bracket items to a stack.  \n",
      "\n",
      "If a key from dictionary is found, adding that key's value to the end of a stack.\n",
      "If a value from the dictionary is found, \n",
      "    popping the last item on the stack -- it must equal the value.\n",
      "    if it doesn't, you can return False.\n",
      "\n",
      "If iterate through str_a, and your stack is [''] -- then you return True."
     ]
    },
    {
     "cell_type": "code",
     "collapsed": false,
     "input": [
      "def checkio(data):\n",
      "    stack=[\"\"]\n",
      "    brackets={\"(\":\")\",\"[\":\"]\",\"{\":\"}\"}\n",
      "    for c in data:\n",
      "        if c in brackets:\n",
      "            stack.append(brackets[c])\n",
      "        elif c in brackets.values() and c!=stack.pop():\n",
      "            return False\n",
      "    return stack==[\"\"]\n",
      "\n"
     ],
     "language": "python",
     "metadata": {},
     "outputs": [],
     "prompt_number": 3
    },
    {
     "cell_type": "code",
     "collapsed": false,
     "input": [
      "#tests for bracket_pairs\n",
      "if __name__ == '__main__':\n",
      "    assert checkio(\"((5+3)*2+1)\") == True, \"Simple\"\n",
      "    assert checkio(\"{[(3+1)+2]+}\") == True, \"Different types\"\n",
      "    assert checkio(\"(3+{1-1)}\") == False, \") is alone inside {}\"\n",
      "    assert checkio(\"[1+1]+(2*2)-{3/3}\") == True, \"Different operators\"\n",
      "    assert checkio(\"(({[(((1)-2)+3)-3]/3}-3)\") == False, \"One is redundant\""
     ],
     "language": "python",
     "metadata": {},
     "outputs": []
    },
    {
     "cell_type": "heading",
     "level": 3,
     "metadata": {},
     "source": [
      "Another problem."
     ]
    },
    {
     "cell_type": "raw",
     "metadata": {},
     "source": [
      "Find the row & column with the lowest sum.\n",
      "\n",
      "Did all kind of iterations to make a sum of rows, columns -- as a dict.\n",
      "Did all kind of iterations to find the lowest value & record its index."
     ]
    },
    {
     "cell_type": "code",
     "collapsed": false,
     "input": [
      "def weak_point(matrix):\n",
      "    \n",
      "    weak_row = [None, None]            #[row number, sum of row]\n",
      "    sum_column = []                    #[]\n",
      "    weak_column = [None, None]         #[column number, sum of column]\n",
      "    \n",
      "    for i in range(len(matrix)):\n",
      "        sum_row = [i,sum(matrix[i])]\n",
      "        \n",
      "        if weak_row == [None,None]:\n",
      "            weak_row = [i, sum_row[1]]\n",
      "        elif weak_row[1] > sum_row[1]:\n",
      "            weak_row = sum_row\n",
      "    \n",
      "        for u in range(len(matrix[i])):\n",
      "            if sum_column == []:\n",
      "                for q in range(len(matrix[i])):\n",
      "                    sum_column.append(0)\n",
      "            sum_column[u] = sum_column[u] + matrix[i][u]\n",
      "        \n",
      "    for i in range(len(sum_column)):\n",
      "        if weak_column == [None, None]:\n",
      "            weak_column = [i, sum_column[i]]\n",
      "        elif sum_column[i] < weak_column[1]:\n",
      "            weak_column = [i, sum_column[i]]\n",
      "\n",
      "    return [weak_row[0], weak_column[0]]\n"
     ],
     "language": "python",
     "metadata": {},
     "outputs": [],
     "prompt_number": 4
    },
    {
     "cell_type": "raw",
     "metadata": {},
     "source": [
      "Calculated the sum of each row, column --- saved as a dict.\n",
      "Asked that dict to find the minimum value, then give the index of it (which gives the first it finds)."
     ]
    },
    {
     "cell_type": "code",
     "collapsed": false,
     "input": [
      "def weak_point(matrix):\n",
      "        \n",
      "    sum_columns = [sum(n) for n in matrix ]\n",
      "    sum_rows = [sum(n) for n in zip(*matrix)]\n",
      "    \n",
      "    weak_row = sum_columns.index(min(i for i in sum_columns))\n",
      "    weak_column = sum_rows.index(min(i for i in sum_rows))\n",
      "\n",
      "    return weak_row, weak_column\n"
     ],
     "language": "python",
     "metadata": {},
     "outputs": [],
     "prompt_number": 31
    },
    {
     "cell_type": "code",
     "collapsed": false,
     "input": [
      "def weak_point(matrix):\n",
      "    \n",
      "    #map applies a function to an iterable,  map(funt, iterable)\n",
      "    #we place the map iteration results into a tuple\n",
      "    \n",
      "    rows = tuple(map(sum, matrix))\n",
      "    cols = tuple(map(sum, zip(*matrix)))\n",
      "    \n",
      "    return rows.index(min(rows)), cols.index(min(cols))"
     ],
     "language": "python",
     "metadata": {},
     "outputs": [],
     "prompt_number": 33
    },
    {
     "cell_type": "code",
     "collapsed": false,
     "input": [
      "#tests for weak_point\n",
      "if __name__ == '__main__':\n",
      "    #These \"asserts\" using only for self-checking and not necessary for auto-testing\n",
      "    #assert isinstance(weak_point([[1]]), (list, tuple)), \"The result should be a list or a tuple\"\n",
      "    assert list(weak_point([[7, 2, 7, 2, 8],\n",
      "                            [2, 9, 4, 1, 7],\n",
      "                            [3, 8, 6, 2, 4],\n",
      "                            [2, 5, 2, 9, 1],\n",
      "                            [6, 6, 5, 4, 5]])) == [3, 3], \"Example\"\n",
      "    assert list(weak_point([[7, 2, 4, 2, 8],\n",
      "                            [2, 8, 1, 1, 7],\n",
      "                            [3, 8, 6, 2, 4],\n",
      "                            [2, 5, 2, 9, 1],\n",
      "                            [6, 6, 5, 4, 5]])) == [1, 2], \"Two weak point\"\n",
      "    assert list(weak_point([[1, 1, 1],\n",
      "                            [1, 1, 1],\n",
      "                            [1, 1, 1]])) == [0, 0], \"Top left\"\n",
      "    assert list(weak_point([[1, 1, 1],\n",
      "                            [1, 2, 2],\n",
      "                            [1, 4, 2],\n",
      "                            [1, 16, 2]])) == [0, 0], \"Top left\"\n",
      "    assert list(weak_point([[7,2,7,2,8],\n",
      "                            [2,9,4,1,7],\n",
      "                            [3,8,6,2,4],\n",
      "                            [2,5,2,9,1],\n",
      "                            [6,6,5,4,5]])) == [3,3]\n",
      "    print('passed')"
     ],
     "language": "python",
     "metadata": {},
     "outputs": [
      {
       "output_type": "stream",
       "stream": "stdout",
       "text": [
        "passed\n"
       ]
      }
     ],
     "prompt_number": 34
    },
    {
     "cell_type": "markdown",
     "metadata": {},
     "source": [
      "The difference between two numbers' binary form."
     ]
    },
    {
     "cell_type": "code",
     "collapsed": false,
     "input": [
      "def checkio(n, m):\n",
      "    sum = 0\n",
      "    \n",
      "    a, b = bin(n)[2:], bin(m)[2:]\n",
      "    a, b = [int(i) for i in a], [int(i) for i in b]\n",
      "    \n",
      "    for i in range(0,max(len(a),len(b))):\n",
      "        if a and b:\n",
      "            if a.pop() != b.pop():\n",
      "                sum += 1\n",
      "        else:\n",
      "            if a:\n",
      "                if a[-1] == 1:\n",
      "                    sum += 1\n",
      "                a.pop()\n",
      "                    \n",
      "            if b:\n",
      "                if b[-1] == 1:\n",
      "                    sum += 1\n",
      "                b.pop() \n",
      "                    \n",
      "    return sum"
     ],
     "language": "python",
     "metadata": {},
     "outputs": [],
     "prompt_number": 1
    },
    {
     "cell_type": "code",
     "collapsed": false,
     "input": [
      "# tests the disjunction of n, m (which uses the binary representation), /\n",
      "# then makes a binary of the output & counts the number of trues(E.g.,'1').\n",
      "\n",
      "def checkio(n, m):\n",
      "    return bin(n ^ m).count('1')"
     ],
     "language": "python",
     "metadata": {},
     "outputs": []
    },
    {
     "cell_type": "code",
     "collapsed": false,
     "input": [
      "if __name__ == '__main__':\n",
      "    #These \"asserts\" using only for self-checking and not necessary for auto-testing\n",
      "    assert checkio(117, 17) == 3, \"First example\"\n",
      "    assert checkio(1, 2) == 2, \"Second example\"\n",
      "    assert checkio(16, 15) == 5, \"Third example\"\n",
      "    assert checkio(16, 128) == 2, \"Fourth example\"\n",
      "    print('passed')"
     ],
     "language": "python",
     "metadata": {},
     "outputs": [
      {
       "output_type": "stream",
       "stream": "stdout",
       "text": [
        "passed\n"
       ]
      }
     ],
     "prompt_number": 2
    },
    {
     "cell_type": "code",
     "collapsed": false,
     "input": [],
     "language": "python",
     "metadata": {},
     "outputs": [],
     "prompt_number": 56
    },
    {
     "cell_type": "code",
     "collapsed": false,
     "input": [],
     "language": "python",
     "metadata": {},
     "outputs": [],
     "prompt_number": 59
    },
    {
     "cell_type": "code",
     "collapsed": false,
     "input": [],
     "language": "python",
     "metadata": {},
     "outputs": [],
     "prompt_number": 59
    },
    {
     "cell_type": "code",
     "collapsed": false,
     "input": [],
     "language": "python",
     "metadata": {},
     "outputs": [],
     "prompt_number": 59
    },
    {
     "cell_type": "code",
     "collapsed": false,
     "input": [],
     "language": "python",
     "metadata": {},
     "outputs": []
    },
    {
     "cell_type": "code",
     "collapsed": false,
     "input": [],
     "language": "python",
     "metadata": {},
     "outputs": []
    },
    {
     "cell_type": "code",
     "collapsed": false,
     "input": [],
     "language": "python",
     "metadata": {},
     "outputs": []
    },
    {
     "cell_type": "code",
     "collapsed": false,
     "input": [],
     "language": "python",
     "metadata": {},
     "outputs": []
    },
    {
     "cell_type": "code",
     "collapsed": false,
     "input": [],
     "language": "python",
     "metadata": {},
     "outputs": []
    },
    {
     "cell_type": "code",
     "collapsed": false,
     "input": [],
     "language": "python",
     "metadata": {},
     "outputs": []
    },
    {
     "cell_type": "code",
     "collapsed": false,
     "input": [],
     "language": "python",
     "metadata": {},
     "outputs": [],
     "prompt_number": 3
    },
    {
     "cell_type": "code",
     "collapsed": false,
     "input": [],
     "language": "python",
     "metadata": {},
     "outputs": []
    },
    {
     "cell_type": "code",
     "collapsed": false,
     "input": [],
     "language": "python",
     "metadata": {},
     "outputs": []
    }
   ],
   "metadata": {}
  }
 ]
}