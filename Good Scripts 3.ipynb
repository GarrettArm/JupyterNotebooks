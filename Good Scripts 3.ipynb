{
 "cells": [
  {
   "cell_type": "markdown",
   "metadata": {},
   "source": [
    "Built-ins"
   ]
  },
  {
   "cell_type": "code",
   "execution_count": 1,
   "metadata": {
    "collapsed": false
   },
   "outputs": [
    {
     "name": "stdout",
     "output_type": "stream",
     "text": [
      "(1, 4)\n",
      "(2, 5)\n",
      "(3, 6)\n",
      "[(1, 4), (2, 5), (3, 6)]\n",
      "('a', 'h')\n",
      "('b', 'i')\n",
      "('c', 'j')\n",
      "('e', 'k')\n",
      "('d', 'l')\n",
      "('f', 'm')\n",
      "('g', 'n')\n"
     ]
    }
   ],
   "source": [
    "# zip(*\n",
    "nested_list = [[1,2,3],[4,5,6]]\n",
    "\n",
    "for i in zip(*nested_list):\n",
    "    print(i)\n",
    "\n",
    "inverted_list = [d for d in zip(*nested_list)]\n",
    "print(inverted_list)\n",
    "\n",
    "\n",
    "#trying with a str\n",
    "str_a = 'abcedfg'\n",
    "str_b = 'hijklmn'\n",
    "for i in zip(str_a,str_b):\n",
    "    print(i)\n"
   ]
  },
  {
   "cell_type": "markdown",
   "metadata": {},
   "source": [
    "General Functions:"
   ]
  },
  {
   "cell_type": "code",
   "execution_count": 2,
   "metadata": {
    "collapsed": false
   },
   "outputs": [
    {
     "name": "stdout",
     "output_type": "stream",
     "text": [
      "checked, and \"hello\" is a type: string\n"
     ]
    }
   ],
   "source": [
    "if isinstance('hello', str):\n",
    "    print('checked, and \"hello\" is a type: string')"
   ]
  },
  {
   "cell_type": "markdown",
   "metadata": {},
   "source": [
    "String Comprehensions"
   ]
  },
  {
   "cell_type": "code",
   "execution_count": 3,
   "metadata": {
    "collapsed": false
   },
   "outputs": [
    {
     "name": "stdout",
     "output_type": "stream",
     "text": [
      "hello everyone there \t hi\n",
      "HELLO EVERYONE THERE \t HI\n",
      "Hello Everyone There \t Hi\n",
      "Hello everyone there \t hi\n",
      "hELLO everyone THERE \t hi\n",
      "hello everyone there \t hi\n"
     ]
    }
   ],
   "source": [
    "#upper & lowercase\n",
    "str_a = 'Hello EVERYONE there \\t HI'\n",
    "print(str_a.lower())\n",
    "print(str_a.upper())\n",
    "print(str_a.title())\n",
    "print(str_a.capitalize())\n",
    "print(str_a.swapcase())\n",
    "print(str_a.casefold())"
   ]
  },
  {
   "cell_type": "code",
   "execution_count": 4,
   "metadata": {
    "collapsed": false
   },
   "outputs": [
    {
     "name": "stdout",
     "output_type": "stream",
     "text": [
      "       Hello EVERYONE there \t HI        \n",
      "b'Hello EVERYONE there \\t HI'\n",
      "Hello EVERYONE there                                                                       HI\n",
      "first line \n",
      " second line\n",
      "\n",
      ".hi. versus . hi .\n",
      ".hi    .\n",
      ".   hi.\n",
      "\n",
      "Hello EVERYONE where \t HI\n"
     ]
    }
   ],
   "source": [
    "#formatting\n",
    "print(str_a.center(40))\n",
    "print(str_a.encode('utf-8'))\n",
    "print(str_a.expandtabs(90))\n",
    "print('first line \\n second line')\n",
    "print('')\n",
    "\n",
    "unstripped = '   hi    '\n",
    "print('.' + unstripped.strip() + '.', 'versus', '.',unstripped.strip(), '.')\n",
    "print('.' + unstripped.lstrip() + '.')\n",
    "print('.' + unstripped.rstrip() + '.')\n",
    "\n",
    "print('')\n",
    "print(str_a.replace('there', 'where'))\n"
   ]
  },
  {
   "cell_type": "code",
   "execution_count": 5,
   "metadata": {
    "collapsed": false
   },
   "outputs": [
    {
     "name": "stdout",
     "output_type": "stream",
     "text": [
      "this is a fucking trick\n"
     ]
    }
   ],
   "source": [
    "##print({name} is a {thing}.format_map(Format()))    where Format is a def with a dictionary\n",
    "print('this is a {adj} {0}'.format('trick', adj='fucking'))\n"
   ]
  },
  {
   "cell_type": "code",
   "execution_count": 6,
   "metadata": {
    "collapsed": false
   },
   "outputs": [
    {
     "name": "stdout",
     "output_type": "stream",
     "text": [
      "1 : count how many h\n",
      "False : does it end with e?\n",
      "2 : found an l at pos 2\n",
      "-1 : if no q, return -1\n",
      "\n",
      "['__add__', '__class__', '__contains__', '__delattr__', '__dir__', '__doc__', '__eq__', '__format__', '__ge__', '__getattribute__', '__getitem__', '__getnewargs__', '__gt__', '__hash__', '__init__', '__iter__', '__le__', '__len__', '__lt__', '__mod__', '__mul__', '__ne__', '__new__', '__reduce__', '__reduce_ex__', '__repr__', '__rmod__', '__rmul__', '__setattr__', '__sizeof__', '__str__', '__subclasshook__', 'capitalize', 'casefold', 'center', 'count', 'encode', 'endswith', 'expandtabs', 'find', 'format', 'format_map', 'index', 'isalnum', 'isalpha', 'isdecimal', 'isdigit', 'isidentifier', 'islower', 'isnumeric', 'isprintable', 'isspace', 'istitle', 'isupper', 'join', 'ljust', 'lower', 'lstrip', 'maketrans', 'partition', 'replace', 'rfind', 'rindex', 'rjust', 'rpartition', 'rsplit', 'rstrip', 'split', 'splitlines', 'startswith', 'strip', 'swapcase', 'title', 'translate', 'upper', 'zfill']\n",
      "\n"
     ]
    }
   ],
   "source": [
    "#introspection\n",
    "print(str_a.count('h'), ': count how many h')\n",
    "print(str_a.endswith('e'), ': does it end with e?')\n",
    "print(str_a.find('l'), ': found an l at pos 2')\n",
    "print(str_a.find('q'), ': if no q, return -1')\n",
    "print('')\n",
    "# str_a.is***  lots of tests for is numeral, alphanumeric, lowercase, \n",
    "\n",
    "\n",
    "print(dir(str_a))\n",
    "print('')\n"
   ]
  },
  {
   "cell_type": "code",
   "execution_count": 8,
   "metadata": {
    "collapsed": false
   },
   "outputs": [
    {
     "name": "stdout",
     "output_type": "stream",
     "text": [
      "['hello', '15', 'dog', 'these words']\n",
      "hello-15-dog-these words\n"
     ]
    }
   ],
   "source": [
    "#joining items into a string, seperated by a \"-\"\n",
    "list_a = ['hello', str(15), 'dog', 'these words']\n",
    "print(list_a)\n",
    "str_a = '-'.join(i for i in list_a)\n",
    "print(str_a)\n"
   ]
  },
  {
   "cell_type": "code",
   "execution_count": 12,
   "metadata": {
    "collapsed": false
   },
   "outputs": [
    {
     "name": "stdout",
     "output_type": "stream",
     "text": [
      "abc\n",
      "bdfhjlnprt\n",
      "zyxwvutsrqponmlkjihgfedcba\n"
     ]
    }
   ],
   "source": [
    "#slicing a string   str_a[start:finish:step(optional)]\n",
    "print('abcdefghijklmnopqrstuvwxyz'[0:3])\n",
    "print('abcdefghijklmnopqrstuvwxyz'[1:20:2])\n",
    "print('abcdefghijklmnopqrstuvwxyz'[::-1])"
   ]
  },
  {
   "cell_type": "markdown",
   "metadata": {},
   "source": [
    "Set Comprehensions"
   ]
  },
  {
   "cell_type": "code",
   "execution_count": 13,
   "metadata": {
    "collapsed": false
   },
   "outputs": [
    {
     "name": "stdout",
     "output_type": "stream",
     "text": [
      "{'two', 'three', 'one'}\n",
      "Fast membership testing\n",
      "{'two', 'five', 'four', 'three', 'one'}  union\n",
      "{'one'}  intersection\n",
      "{'two', 'three'}  left join\n",
      "{'five', 'four'}  right join\n",
      "{'two', 'three', 'four', 'five'}  disjunction\n",
      "{'one'}\n"
     ]
    }
   ],
   "source": [
    "set_x = {'one', 'two', 'three'}\n",
    "set_y = {'one', 'four', 'five'}\n",
    "print(set_x)\n",
    "\n",
    "if 'two' in set_x:\n",
    "    print('Fast membership testing')\n",
    "    \n",
    "#Logic operations:\n",
    "\n",
    "print(set_x | set_y, ' union')\n",
    "\n",
    "print(set_x & set_y, ' intersection' )\n",
    "\n",
    "print(set_x - set_y, ' left join' )\n",
    "print(set_y - set_x, ' right join' )\n",
    "\n",
    "print(set_x ^ set_y, ' disjunction' )\n",
    "\n",
    "# set comprehensions \n",
    "\n",
    "set_y = {i for i in set_x if i in set_y}\n",
    "print (set_y)"
   ]
  },
  {
   "cell_type": "markdown",
   "metadata": {},
   "source": [
    "List Comprehensions"
   ]
  },
  {
   "cell_type": "code",
   "execution_count": 9,
   "metadata": {
    "collapsed": false
   },
   "outputs": [
    {
     "name": "stdout",
     "output_type": "stream",
     "text": [
      "0 a\n",
      "1 b\n",
      "2 c\n",
      "3 d\n",
      "4 e\n"
     ]
    }
   ],
   "source": [
    "# using 'for pos, i in enumerate(list_x)' instead of 'for pos in range(len(list_x))'\n",
    "list_a = ['a','b','c','d','e']\n",
    "\n",
    "for pos, item in enumerate(list_a):\n",
    "    print(pos, item)"
   ]
  },
  {
   "cell_type": "code",
   "execution_count": 10,
   "metadata": {
    "collapsed": false
   },
   "outputs": [
    {
     "name": "stdout",
     "output_type": "stream",
     "text": [
      "[0, 1, 4, 9, 16, 25, 36, 49, 64, 81]\n"
     ]
    }
   ],
   "source": [
    "new_list = [x**2 for x in range(10)]\n",
    "print(new_list)"
   ]
  },
  {
   "cell_type": "code",
   "execution_count": 11,
   "metadata": {
    "collapsed": false
   },
   "outputs": [
    {
     "name": "stdout",
     "output_type": "stream",
     "text": [
      "[0, 4, 16, 36, 64]\n"
     ]
    }
   ],
   "source": [
    "new_list = [x**2 for x in range(10) if x%2==0]\n",
    "print(new_list)"
   ]
  },
  {
   "cell_type": "code",
   "execution_count": 12,
   "metadata": {
    "collapsed": false
   },
   "outputs": [
    {
     "name": "stdout",
     "output_type": "stream",
     "text": [
      "['01h', '01i', '02h', '02i', '04h', '04i', '31h', '31i', '32h', '32i', '34h', '34i']\n"
     ]
    }
   ],
   "source": [
    "new_list = [str(x)+str(y)+z for x in range(5) if x%3==0\n",
    "                       for y in range(5) if y%3!=0\n",
    "                       for z in 'hi']\n",
    "print(new_list)"
   ]
  },
  {
   "cell_type": "code",
   "execution_count": 13,
   "metadata": {
    "collapsed": false
   },
   "outputs": [
    {
     "name": "stdout",
     "output_type": "stream",
     "text": [
      "['01h', '01i', '02h', '02i', '04h', '04i', '31h', '31i', '32h', '32i', '34h', '34i']\n"
     ]
    }
   ],
   "source": [
    "#same as:\n",
    "new_list = []\n",
    "for x in range(5):\n",
    "    if x%3==0:\n",
    "        for y in range(5):\n",
    "            if y%3!=0:\n",
    "                for z in 'hi':\n",
    "                    new_list.append(str(x)+str(y)+z)\n",
    "print(new_list)"
   ]
  },
  {
   "cell_type": "code",
   "execution_count": 14,
   "metadata": {
    "collapsed": false
   },
   "outputs": [
    {
     "name": "stdout",
     "output_type": "stream",
     "text": [
      "[[1, 4, 7], [2, 5, 8], [3, 6, 9], ['h', 'e', 'y']]\n"
     ]
    }
   ],
   "source": [
    "matrix = [[1,2,3,'h'],[4,5,6,'e'],[7,8,9,'y']]\n",
    "new_matrix = []\n",
    "\n",
    "for i in range(4):\n",
    "    new_matrix.append([row[i] for row in matrix])\n",
    "print(new_matrix)"
   ]
  },
  {
   "cell_type": "markdown",
   "metadata": {},
   "source": [
    "Generators"
   ]
  },
  {
   "cell_type": "code",
   "execution_count": 17,
   "metadata": {
    "collapsed": false
   },
   "outputs": [
    {
     "name": "stdout",
     "output_type": "stream",
     "text": [
      "<generator object <genexpr> at 0x7f25740be4c0>\n",
      "0\n",
      "1\n",
      "4\n",
      "9\n",
      "16\n",
      "25\n",
      "36\n",
      "49\n",
      "64\n",
      "81\n"
     ]
    }
   ],
   "source": [
    "list_x = (x**2 for x in range(10))\n",
    "print(list_x)\n",
    "for i in list_x:\n",
    "    print(i)"
   ]
  },
  {
   "cell_type": "markdown",
   "metadata": {},
   "source": [
    "Lists as a stack"
   ]
  },
  {
   "cell_type": "code",
   "execution_count": 21,
   "metadata": {
    "collapsed": false
   },
   "outputs": [
    {
     "name": "stdout",
     "output_type": "stream",
     "text": [
      "[99] appended 99\n",
      "99 <--- popped the last item\n"
     ]
    }
   ],
   "source": [
    "list_x = []\n",
    "list_x.append(99)\n",
    "print(list_x, 'appended 99')\n",
    "popped = list_x.pop()\n",
    "print(popped, '<--- popped the last item')"
   ]
  },
  {
   "cell_type": "markdown",
   "metadata": {},
   "source": [
    "Consise manipulations"
   ]
  },
  {
   "cell_type": "code",
   "execution_count": 22,
   "metadata": {
    "collapsed": false
   },
   "outputs": [
    {
     "name": "stdout",
     "output_type": "stream",
     "text": [
      "[(1, 3), (1, 4), (2, 3), (2, 4), (3, 4)]\n",
      "[(1, 3), (1, 4), (2, 3), (2, 4), (3, 4)]\n"
     ]
    }
   ],
   "source": [
    "list_y = [(x,y) for x in [1,2,3] for y in [3,4] if x != y]\n",
    "\n",
    "#same as:\n",
    "list_z = []\n",
    "for x in [1,2,3]:\n",
    "    for y in [3,4]:\n",
    "        if x != y:\n",
    "            list_z.append((x,y))\n",
    "            \n",
    "print(list_y)\n",
    "print(list_z)"
   ]
  },
  {
   "cell_type": "code",
   "execution_count": 23,
   "metadata": {
    "collapsed": false
   },
   "outputs": [
    {
     "name": "stdout",
     "output_type": "stream",
     "text": [
      "['hello', 'who', 'what']\n"
     ]
    }
   ],
   "source": [
    "#also\n",
    "\n",
    "list_q = ['hello  ', '  who  ',  ' what ']\n",
    "list_p = [i.strip() for i in list_q]\n",
    "print(list_p)"
   ]
  },
  {
   "cell_type": "code",
   "execution_count": 24,
   "metadata": {
    "collapsed": false
   },
   "outputs": [
    {
     "name": "stdout",
     "output_type": "stream",
     "text": [
      "[[1, 5, 9], [2, 6, 10], [3, 7, 11], [4, 8, 12]]\n"
     ]
    }
   ],
   "source": [
    "matrix = [ [1, 2, 3, 4], [5, 6, 7, 8], [9, 10, 11, 12] ]\n",
    "transposed = []\n",
    "for i in range(4):\n",
    "    # the following 3 lines implement the nested listcomp\n",
    "    transposed_row = []\n",
    "    for row in matrix:\n",
    "        transposed_row.append(row[i])\n",
    "    transposed.append(transposed_row)\n",
    "print(transposed)"
   ]
  },
  {
   "cell_type": "code",
   "execution_count": 25,
   "metadata": {
    "collapsed": false
   },
   "outputs": [
    {
     "name": "stdout",
     "output_type": "stream",
     "text": [
      "[[1, 5, 9], [2, 6, 10], [3, 7, 11], [4, 8, 12]]\n"
     ]
    }
   ],
   "source": [
    "#same as:\n",
    "matrix = [ [1, 2, 3, 4], [5, 6, 7, 8], [9, 10, 11, 12] ]\n",
    "transposed = []\n",
    "for i in range(4):\n",
    "    transposed.append([row[i] for row in matrix])\n",
    "print(transposed)"
   ]
  },
  {
   "cell_type": "code",
   "execution_count": 26,
   "metadata": {
    "collapsed": false
   },
   "outputs": [
    {
     "name": "stdout",
     "output_type": "stream",
     "text": [
      "[[1, 5, 9], [2, 6, 10], [3, 7, 11], [4, 8, 12]]\n"
     ]
    }
   ],
   "source": [
    "#same as:\n",
    "matrix = [ [1, 2, 3, 4], [5, 6, 7, 8], [9, 10, 11, 12] ]\n",
    "transposed = [ [row[i] for row in matrix] for i in range(4)]\n",
    "print(transposed)"
   ]
  },
  {
   "cell_type": "code",
   "execution_count": 25,
   "metadata": {
    "collapsed": false
   },
   "outputs": [
    {
     "name": "stdout",
     "output_type": "stream",
     "text": [
      "('directory_a', 'a', ('file_1', 'file_2', 'file_3'))\n",
      "('directory_b', 'b', ('file_4', 'file_5'))\n",
      "HERE'S THE DIRECTORY directory_b\n"
     ]
    }
   ],
   "source": [
    "# in reverse:\n",
    "nested_thing = [('directory_a', 'a', ('file_1', 'file_2', 'file_3')), ('directory_b', 'b', ('file_4', 'file_5'))]\n",
    "# let's find the name of the directory with file_5 in it\n",
    "\n",
    "for dir_letter_files in nested_thing:\n",
    "    print(dir_letter_files)\n",
    "    directory, letter, files = dir_letter_files  # unpacking a tuple\n",
    "    for file in files:\n",
    "        if file == 'file_5':\n",
    "            print(\"HERE'S THE DIRECTORY\", directory)"
   ]
  },
  {
   "cell_type": "code",
   "execution_count": 27,
   "metadata": {
    "collapsed": false
   },
   "outputs": [
    {
     "name": "stdout",
     "output_type": "stream",
     "text": [
      "HERE'S THE DIRECTORY directory_b\n"
     ]
    }
   ],
   "source": [
    "# more consise version:\n",
    "\n",
    "for directory, letter, files in nested_thing:\n",
    "    for file in files:\n",
    "        if file == 'file_5':\n",
    "            print(\"HERE'S THE DIRECTORY\", directory)"
   ]
  },
  {
   "cell_type": "code",
   "execution_count": 28,
   "metadata": {
    "collapsed": false
   },
   "outputs": [
    {
     "name": "stdout",
     "output_type": "stream",
     "text": [
      "HERE'S THE DIRECTORY directory_b\n"
     ]
    }
   ],
   "source": [
    "# constricting more:\n",
    "\n",
    "for directory, letter, files in nested_thing:\n",
    "    if 'file_5' in files:\n",
    "        print(\"HERE'S THE DIRECTORY\", directory)"
   ]
  },
  {
   "cell_type": "code",
   "execution_count": 35,
   "metadata": {
    "collapsed": false
   },
   "outputs": [
    {
     "name": "stdout",
     "output_type": "stream",
     "text": [
      "['directory_b']\n"
     ]
    }
   ],
   "source": [
    "# very consise:\n",
    "\n",
    "target_directory = [directory \n",
    "                    for directory, letter, files in nested_thing\n",
    "                    if 'file_5' in files]\n",
    "print(target_directory)"
   ]
  },
  {
   "cell_type": "markdown",
   "metadata": {},
   "source": [
    "Tuple Comprehensions"
   ]
  },
  {
   "cell_type": "code",
   "execution_count": 36,
   "metadata": {
    "collapsed": false
   },
   "outputs": [
    {
     "name": "stdout",
     "output_type": "stream",
     "text": [
      "(12, 'put_it', None, 1.234)\n",
      "put_it                                  getting values by position\n",
      "12 put_it                           assigning variable to tuple positions\n",
      "Tuples are immutable\n",
      "(12, 'put_it', 1.234)                   sliced out an item\n"
     ]
    }
   ],
   "source": [
    "my_tuple = ()\n",
    "\n",
    "#Adding items to a tuple\n",
    "my_tuple = my_tuple + (12, None, 1.234)\n",
    "my_tuple = my_tuple[:1] + ('put_it',) + my_tuple[1:]           #Note the trailing comma\n",
    "print(my_tuple)\n",
    "\n",
    "#indexing tuples\n",
    "print(my_tuple[1], '                                 getting values by position')\n",
    "\n",
    "\n",
    "#Unpacking a tuple\n",
    "int_x, text_y, value_x, float_x = my_tuple\n",
    "text_y = my_tuple[1]\n",
    "print(int_x, text_y,  '                          assigning variable to tuple positions' )\n",
    "\n",
    "\n",
    "#Editing a tuple\n",
    "try:\n",
    "    my_tuple[0] = 'hello'\n",
    "except: print('Tuples are immutable')\n",
    "\n",
    "my_tuple = my_tuple[:2] + my_tuple[3:]\n",
    "print(my_tuple, '                  sliced out an item')"
   ]
  },
  {
   "cell_type": "code",
   "execution_count": 37,
   "metadata": {
    "collapsed": false
   },
   "outputs": [
    {
     "name": "stdout",
     "output_type": "stream",
     "text": [
      "2                count of hello's\n",
      "0                index of first hello\n",
      "it's in there\n",
      "hello\n",
      "hello\n",
      "there\n",
      "42\n"
     ]
    }
   ],
   "source": [
    "#Simple functions\n",
    "my_tuple = ('hello', 'hello', 'there', 42)\n",
    "\n",
    "print(my_tuple.count('hello'), \"               count of hello's\")\n",
    "print(my_tuple.index('hello'), \"               index of first hello\")\n",
    "\n",
    "\n",
    "if 'hello' in my_tuple:\n",
    "    print(\"it's in there\")\n",
    "    \n",
    "for i in my_tuple:\n",
    "    print(i)"
   ]
  },
  {
   "cell_type": "code",
   "execution_count": 38,
   "metadata": {
    "collapsed": false
   },
   "outputs": [
    {
     "name": "stdout",
     "output_type": "stream",
     "text": [
      "('hello', 'hello', 'there', 'Mark')\n",
      "\n",
      "True                                                        are all True?\n",
      "True                                                        are any True?\n",
      "\n",
      "[(0, 'hello'), (1, 'hello'), (2, 'there'), (3, 'Mark')]\n",
      "\n",
      "4                                                           length\n",
      "\n",
      "['Mark', 'hello', 'hello', 'there']\n",
      "['hello', 'hello', 'Mark', 'there']\n",
      "\n",
      "1                                                            min\n",
      "5                                                            max\n",
      "\n",
      "[1, 1, 2, 2, 3, 3, 5]\n",
      "(1, 2, 3, 5, 2, 3, 1)                                        my_tuple not changed by sorted call\n"
     ]
    }
   ],
   "source": [
    "#Common tuple functions\n",
    "my_tuple = ('hello', 'hello', 'there', 'Mark')\n",
    "print(my_tuple)\n",
    "print('')\n",
    "\n",
    "print( all(my_tuple), '                                                       are all True?')\n",
    "print( any(my_tuple), '                                                       are any True?')\n",
    "print('')\n",
    "print( list(enumerate(my_tuple)))\n",
    "print('')\n",
    "print( len(my_tuple), '                                                          length')               \n",
    "print('')\n",
    "print(sorted(my_tuple))\n",
    "print(sorted(my_tuple, key=str.lower))\n",
    "\n",
    "print('')\n",
    "my_tuple = (1,2,3,5,2,3,1) \n",
    "print( min(my_tuple), '                                                           min')\n",
    "print( max(my_tuple), '                                                           max')\n",
    "print('')\n",
    "print(sorted(my_tuple, key= abs, reverse=False))\n",
    "print(my_tuple, '                                       my_tuple not changed by sorted call')\n"
   ]
  },
  {
   "cell_type": "markdown",
   "metadata": {},
   "source": [
    "Dictionary Comprehensions"
   ]
  },
  {
   "cell_type": "code",
   "execution_count": 39,
   "metadata": {
    "collapsed": false
   },
   "outputs": [
    {
     "name": "stdout",
     "output_type": "stream",
     "text": [
      "{'key_a': 'value_a'}\n"
     ]
    }
   ],
   "source": [
    "#adding a key,value to a dict\n",
    "dict_a = {}\n",
    "dict_a['key_a'] = 'value_a'\n",
    "print(dict_a)"
   ]
  },
  {
   "cell_type": "code",
   "execution_count": 40,
   "metadata": {
    "collapsed": false
   },
   "outputs": [
    {
     "name": "stdout",
     "output_type": "stream",
     "text": [
      "key_a value_a\n"
     ]
    }
   ],
   "source": [
    "# iterating items in a dict with .items()\n",
    "for k,v in dict_a.items():\n",
    "    print(k,v)"
   ]
  },
  {
   "cell_type": "code",
   "execution_count": 41,
   "metadata": {
    "collapsed": false
   },
   "outputs": [
    {
     "name": "stdout",
     "output_type": "stream",
     "text": [
      "{0: 0, 1: 1, 2: 4, 3: 9, 4: 16, 5: 25, 6: 36, 7: 49, 8: 64, 9: 81}\n"
     ]
    }
   ],
   "source": [
    "# generating a new dict with comprehensions\n",
    "dict_a = {x:x**2 for x in range(10)}\n",
    "print(dict_a)"
   ]
  },
  {
   "cell_type": "markdown",
   "metadata": {},
   "source": [
    "Class with init & repr"
   ]
  },
  {
   "cell_type": "code",
   "execution_count": 42,
   "metadata": {
    "collapsed": false
   },
   "outputs": [
    {
     "name": "stdout",
     "output_type": "stream",
     "text": [
      "(('human', 'G-money', 2), ('dog', 'Wish', 4), ('cat', 'Meow', 3.9))\n"
     ]
    }
   ],
   "source": [
    "class Animals():\n",
    "    def __init__(self, species, name, paws, **kwargs):\n",
    "        self.species = species\n",
    "        self.name = name\n",
    "        self.paws = paws\n",
    "        super(Animals, self).__init__()   \n",
    "    def __repr__(self):\n",
    "        return repr((self.species , self.name, self.paws))\n",
    "    \n",
    "my_household = (Animals('human', 'G-money', 2, test='what'),Animals('dog', 'Wish', 4), Animals('cat', 'Meow', 3.9))\n",
    "print(my_household)"
   ]
  },
  {
   "cell_type": "markdown",
   "metadata": {},
   "source": [
    "kwargs to self.key=value"
   ]
  },
  {
   "cell_type": "code",
   "execution_count": 43,
   "metadata": {
    "collapsed": false
   },
   "outputs": [
    {
     "name": "stdout",
     "output_type": "stream",
     "text": [
      "bark\n",
      "None\n",
      "A has no .cat\n"
     ]
    }
   ],
   "source": [
    "# not very pythonic.  probably better to fix the problem somewhere else, if you require this functionality.\n",
    "\n",
    "class Animals():\n",
    "    def __init__(self, **kwargs):\n",
    "        for key in kwargs:\n",
    "            setattr(self, key, kwargs.get(key))\n",
    "            \n",
    "def run_animals():\n",
    "    A = Animals(bug='squash', dog='bark', tree=None)\n",
    "    B = Animals(cat='meow', rock=None, rick='roll')\n",
    "    print(A.dog)\n",
    "    print(B.rock)\n",
    "    try:\n",
    "        if A.cat: \n",
    "            print(A.cat)\n",
    "    except:\n",
    "        print('A has no .cat')\n",
    "        \n",
    "run_animals()"
   ]
  },
  {
   "cell_type": "code",
   "execution_count": null,
   "metadata": {
    "collapsed": false
   },
   "outputs": [],
   "source": []
  },
  {
   "cell_type": "markdown",
   "metadata": {},
   "source": [
    "## Functional Programming"
   ]
  },
  {
   "cell_type": "markdown",
   "metadata": {},
   "source": [
    "#### Lambdas"
   ]
  },
  {
   "cell_type": "raw",
   "metadata": {},
   "source": [
    "lambda x, y: x+y\n",
    "(take x & y and make x+y"
   ]
  },
  {
   "cell_type": "code",
   "execution_count": 44,
   "metadata": {
    "collapsed": false
   },
   "outputs": [
    {
     "name": "stdout",
     "output_type": "stream",
     "text": [
      "0\n",
      "True\n"
     ]
    }
   ],
   "source": [
    "even = lambda x:x%2             #numeric evaluation\n",
    "is_even = lambda x:x%2 == 0     #boolean evaluation\n",
    "\n",
    "print(even(12))\n",
    "print(is_even(12))\n"
   ]
  },
  {
   "cell_type": "markdown",
   "metadata": {},
   "source": [
    "#### No modification of variables.  Creation of new variables."
   ]
  },
  {
   "cell_type": "raw",
   "metadata": {},
   "source": [
    "map() applies a list to a function  -  map(lambda x:x%2, list_of_numbers)\n",
    "- does not alter input\n",
    "- outputs a new list. \n"
   ]
  },
  {
   "cell_type": "code",
   "execution_count": 45,
   "metadata": {
    "collapsed": false
   },
   "outputs": [
    {
     "ename": "IndentationError",
     "evalue": "expected an indented block (<ipython-input-45-dce4328918fd>, line 4)",
     "output_type": "error",
     "traceback": [
      "\u001b[1;36m  File \u001b[1;32m\"<ipython-input-45-dce4328918fd>\"\u001b[1;36m, line \u001b[1;32m4\u001b[0m\n\u001b[1;33m    return map(lambda x:x*x, num_list)\u001b[0m\n\u001b[1;37m         ^\u001b[0m\n\u001b[1;31mIndentationError\u001b[0m\u001b[1;31m:\u001b[0m expected an indented block\n"
     ]
    }
   ],
   "source": [
    "    #functional\n",
    "\n",
    "def squares(num_list):\n",
    "    return map(lambda x:x*x, num_list)\n",
    "    \n",
    "    # versus\n",
    "     \n",
    "def squared(num_list):\n",
    "    for n,v in enumerate(num_list):\n",
    "        num_list[n] = v*v\n",
    "    return num_list\n",
    "\n",
    "\n",
    "numbers = [1,2,3,4,5,6,7,8,9]\n",
    "\n",
    "print(numbers, '\\t\\toriginal')\n",
    "print(list(squares(numbers)), '\\t~~~~~funtional')\n",
    "print(numbers, '\\t\\toriginal')\n",
    "print(squared(numbers), '\\t~~~~~not')\n",
    "print(numbers, '\\toriginal')"
   ]
  },
  {
   "cell_type": "raw",
   "metadata": {},
   "source": [
    "filter(function, list_of_items) returns a list of all items where function(list_of_items[n])==True\n"
   ]
  },
  {
   "cell_type": "code",
   "execution_count": 46,
   "metadata": {
    "collapsed": false
   },
   "outputs": [
    {
     "name": "stdout",
     "output_type": "stream",
     "text": [
      "[2, 4, 6]\n"
     ]
    }
   ],
   "source": [
    "is_even = lambda x:x%2 == 0\n",
    "a = filter(is_even, [1,2,3,4,5,6])\n",
    "print(list(a))"
   ]
  },
  {
   "cell_type": "raw",
   "metadata": {},
   "source": [
    "reduce(function, list_of_items) returns an item that results from applying a function to all the items in the list_of_items)"
   ]
  },
  {
   "cell_type": "code",
   "execution_count": 47,
   "metadata": {
    "collapsed": false
   },
   "outputs": [
    {
     "name": "stdout",
     "output_type": "stream",
     "text": [
      "15\n"
     ]
    }
   ],
   "source": [
    "import functools\n",
    "a = functools.reduce(lambda x, y:x+y, [1,2,3,4,5])\n",
    "print(a)"
   ]
  },
  {
   "cell_type": "code",
   "execution_count": 48,
   "metadata": {
    "collapsed": false
   },
   "outputs": [
    {
     "name": "stdout",
     "output_type": "stream",
     "text": [
      "[1, 2, 3, 5, 6, 7, 9, 10, 11]\n"
     ]
    }
   ],
   "source": [
    "a = functools.reduce(lambda x, y:x+y, [[1,2,3],[5,6,7],[9,10,11]])\n",
    "print(a)"
   ]
  },
  {
   "cell_type": "raw",
   "metadata": {},
   "source": [
    "partial(func, *args, **kwargs)\n",
    "-returns an object that calls func with args & kwargs."
   ]
  },
  {
   "cell_type": "code",
   "execution_count": 49,
   "metadata": {
    "collapsed": false
   },
   "outputs": [
    {
     "name": "stdout",
     "output_type": "stream",
     "text": [
      "22\n"
     ]
    }
   ],
   "source": [
    "from functools import partial\n",
    "basetwo = partial(int, base=2)\n",
    "a = basetwo('10110')\n",
    "print(a)\n",
    "# lets you redefine args sent to functions"
   ]
  },
  {
   "cell_type": "code",
   "execution_count": 50,
   "metadata": {
    "collapsed": false
   },
   "outputs": [
    {
     "name": "stdout",
     "output_type": "stream",
     "text": [
      "3.1622776601683795\n",
      "[(3, 3), (4, 6), (1, 2), (1, 1)]\n"
     ]
    }
   ],
   "source": [
    "points_list = [(1,2), (3,3), (4,6), (1,1)]\n",
    "\n",
    "# simple def to accept two points & return one variable (distance between points)\n",
    "import math\n",
    "def distance(pt1, pt2):\n",
    "    x1, y1 = pt1\n",
    "    x2, y2 = pt2\n",
    "    return math.hypot(x2-x1, y2-y1)\n",
    "print(distance(points_list[1], points_list[2]))\n",
    "\n",
    "# to sort points_list by distance to point\n",
    "# distance requires two objects; sort accepts one.\n",
    "# partials can run distance(pt_zero, points_list[interated]) & return the distance\n",
    "# sort can use the distance to sort the list\n",
    "\n",
    "pt_origin = (4,3)\n",
    "points_list.sort(key=partial(distance, pt_origin))  \n",
    "print(points_list)                           "
   ]
  },
  {
   "cell_type": "markdown",
   "metadata": {},
   "source": [
    "# Decorators"
   ]
  },
  {
   "cell_type": "code",
   "execution_count": 54,
   "metadata": {
    "collapsed": false
   },
   "outputs": [
    {
     "name": "stdout",
     "output_type": "stream",
     "text": [
      "Calling greetings at 2016-09-02 00:00:12.984885\n",
      "Hello Frank\n",
      "Finished calling: greetings\n",
      "wrapper \t\t\t\t<--- note: some function attributes lost by wrapper\n",
      "None\n"
     ]
    }
   ],
   "source": [
    "import datetime\n",
    "\n",
    "def some_decorator(func_to_decorate):\n",
    "    def wrapper(*args, **kwargs):\n",
    "        print('Calling {} at {}'.format(func_to_decorate.__name__, datetime.datetime.now()))\n",
    "        func_to_decorate(*args, **kwargs)\n",
    "        print('Finished calling: {}'.format(func_to_decorate.__name__))\n",
    "    return wrapper\n",
    "\n",
    "@some_decorator\n",
    "def greetings(name):\n",
    "    \"\"\"a doc string\"\"\"\n",
    "    print('Hello {}'.format(name))\n",
    "    \n",
    "\n",
    "greetings('Frank')\n",
    "print(greetings.__name__, '\\t\\t\\t\\t<--- note: some function attributes lost by wrapper')\n",
    "print(greetings.__doc__)"
   ]
  },
  {
   "cell_type": "code",
   "execution_count": 55,
   "metadata": {
    "collapsed": false
   },
   "outputs": [
    {
     "name": "stdout",
     "output_type": "stream",
     "text": [
      "calling greetings at 2016-09-02 00:00:14.712720\n",
      "this argument\n",
      "Hello Henry\n",
      "finished greetings\n"
     ]
    }
   ],
   "source": [
    "# with arguments\n",
    "\n",
    "def some_decorator_with_args(decorator_arg1):\n",
    "    def some_decorator(func_to_decorate):\n",
    "        def wrapping(func_arg):\n",
    "            print('calling {} at {}'.format(func_to_decorate.__name__, datetime.datetime.now()))\n",
    "            print(decorator_arg1)\n",
    "            func_to_decorate(func_arg)\n",
    "            print('finished {}'.format(func_to_decorate.__name__))\n",
    "        return wrapping\n",
    "    return some_decorator\n",
    "\n",
    "@some_decorator_with_args(\"this argument\")\n",
    "def greetings(name):\n",
    "    print('Hello {}'.format(name))\n",
    "    \n",
    "greetings('Henry')"
   ]
  },
  {
   "cell_type": "raw",
   "metadata": {},
   "source": [
    "@wraps decorates a decorated function, so that the wrapper has the same __doc__ etc."
   ]
  },
  {
   "cell_type": "code",
   "execution_count": 56,
   "metadata": {
    "collapsed": false
   },
   "outputs": [
    {
     "name": "stdout",
     "output_type": "stream",
     "text": [
      "Calling greetings at 2016-09-02 00:00:15.877465\n",
      "Hello Frank\n",
      "Finished calling: greetings\n",
      "greetings \t\t\t\t<--- see: funtion attributes preserved by @wraps\n",
      "a doc string\n"
     ]
    }
   ],
   "source": [
    "import datetime\n",
    "from functools import wraps\n",
    "\n",
    "def some_decorator(func_to_decorate):\n",
    "    @wraps(func_to_decorate)\n",
    "    def wrapper(*args, **kwargs):\n",
    "        print('Calling {} at {}'.format(func_to_decorate.__name__, datetime.datetime.now()))\n",
    "        func_to_decorate(*args, **kwargs)\n",
    "        print('Finished calling: {}'.format(func_to_decorate.__name__))\n",
    "    return wrapper\n",
    "\n",
    "@some_decorator\n",
    "def greetings(name):\n",
    "    \"\"\"a doc string\"\"\"\n",
    "    print('Hello {}'.format(name))\n",
    "    \n",
    "\n",
    "greetings('Frank')\n",
    "print(greetings.__name__, '\\t\\t\\t\\t<--- see: funtion attributes preserved by @wraps')\n",
    "print(greetings.__doc__)\n"
   ]
  },
  {
   "cell_type": "code",
   "execution_count": null,
   "metadata": {
    "collapsed": false
   },
   "outputs": [],
   "source": []
  },
  {
   "cell_type": "code",
   "execution_count": null,
   "metadata": {
    "collapsed": false
   },
   "outputs": [],
   "source": []
  },
  {
   "cell_type": "code",
   "execution_count": null,
   "metadata": {
    "collapsed": false
   },
   "outputs": [],
   "source": [
    "\n",
    "    \n",
    "\n"
   ]
  },
  {
   "cell_type": "code",
   "execution_count": 60,
   "metadata": {
    "collapsed": false
   },
   "outputs": [],
   "source": []
  },
  {
   "cell_type": "code",
   "execution_count": null,
   "metadata": {
    "collapsed": false
   },
   "outputs": [],
   "source": []
  },
  {
   "cell_type": "code",
   "execution_count": null,
   "metadata": {
    "collapsed": false
   },
   "outputs": [],
   "source": []
  },
  {
   "cell_type": "code",
   "execution_count": null,
   "metadata": {
    "collapsed": false
   },
   "outputs": [],
   "source": []
  }
 ],
 "metadata": {
  "kernelspec": {
   "display_name": "Python 3",
   "language": "python",
   "name": "python3"
  },
  "language_info": {
   "codemirror_mode": {
    "name": "ipython",
    "version": 3
   },
   "file_extension": ".py",
   "mimetype": "text/x-python",
   "name": "python",
   "nbconvert_exporter": "python",
   "pygments_lexer": "ipython3",
   "version": "3.5.2"
  }
 },
 "nbformat": 4,
 "nbformat_minor": 0
}
