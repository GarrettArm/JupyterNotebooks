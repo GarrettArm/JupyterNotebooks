{
 "cells": [
  {
   "cell_type": "markdown",
   "metadata": {},
   "source": [
    "### Converting python code into byte code then executing"
   ]
  },
  {
   "cell_type": "markdown",
   "metadata": {},
   "source": [
    "Trying to get iPython to display bytecode commands from python interpreter, and manipulate those bytecode commands.  Project not finished or working."
   ]
  },
  {
   "cell_type": "code",
   "execution_count": 1,
   "metadata": {
    "collapsed": false
   },
   "outputs": [],
   "source": [
    "def func():\n",
    "    a = 1\n",
    "    b = 2\n",
    "    c = a + b\n",
    "    return c"
   ]
  },
  {
   "cell_type": "code",
   "execution_count": 2,
   "metadata": {
    "collapsed": false
   },
   "outputs": [],
   "source": [
    "import opcode\n",
    "def find_opcode_index(opcodes, op):\n",
    "    i = 0\n",
    "    while i < len(opcodes):\n",
    "        if opcodes[i] == op:\n",
    "            return i\n",
    "        if opcodes[i] < opcode.HAVE_ARGUMENT: #90, as mentioned earlier\n",
    "            i += 1\n",
    "        else:\n",
    "            i += 3\n",
    "    return -1"
   ]
  },
  {
   "cell_type": "code",
   "execution_count": 3,
   "metadata": {
    "collapsed": false
   },
   "outputs": [],
   "source": [
    "fco = func.__code__ \n",
    "# we'll be using this a lot, so let's make it shorter\n",
    "\n",
    "func_code = list(fco.co_code)\n",
    "add_index = find_opcode_index(func_code, opcode.opmap['BINARY_ADD']) #18, as calculated earlier\n",
    "\n",
    "if add_index >= 0: \n",
    "    #fix iPython weirdness with re-running cells, don't worry about this\n",
    "    func_code[add_index] = opcode.opmap['BINARY_SUBTRACT'] \n",
    "    # actually replace the opcode\n",
    "\n",
    "# the fun part starts here\n",
    "func.__code__ = type(fco)(\n",
    "    fco.co_argcount,\n",
    "    fco.co_kwonlyargcount,\n",
    "    fco.co_nlocals,\n",
    "    fco.co_stacksize,\n",
    "    fco.co_flags,\n",
    "    bytes(func_code),\n",
    "    fco.co_consts,\n",
    "    fco.co_names,\n",
    "    fco.co_varnames,\n",
    "    fco.co_filename,\n",
    "    fco.co_name,\n",
    "    fco.co_firstlineno,\n",
    "    fco.co_lnotab,\n",
    "    fco.co_freevars,\n",
    "    fco.co_cellvars\n",
    ") \n",
    "# I think this type is a record for the most __init__ arguments in the Python stdlib. /\n",
    "#Luckily we're just copying them all over "
   ]
  },
  {
   "cell_type": "code",
   "execution_count": 4,
   "metadata": {
    "collapsed": false
   },
   "outputs": [
    {
     "data": {
      "text/plain": [
       "-1"
      ]
     },
     "execution_count": 4,
     "metadata": {},
     "output_type": "execute_result"
    }
   ],
   "source": [
    "func()"
   ]
  },
  {
   "cell_type": "code",
   "execution_count": null,
   "metadata": {
    "collapsed": false
   },
   "outputs": [],
   "source": []
  }
 ],
 "metadata": {
  "kernelspec": {
   "display_name": "Python 3",
   "language": "python",
   "name": "python3"
  },
  "language_info": {
   "codemirror_mode": {
    "name": "ipython",
    "version": 3
   },
   "file_extension": ".py",
   "mimetype": "text/x-python",
   "name": "python",
   "nbconvert_exporter": "python",
   "pygments_lexer": "ipython3",
   "version": "3.5.2"
  }
 },
 "nbformat": 4,
 "nbformat_minor": 0
}
