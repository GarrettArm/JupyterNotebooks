{
 "cells": [
  {
   "cell_type": "markdown",
   "metadata": {},
   "source": [
    "# doctest"
   ]
  },
  {
   "cell_type": "markdown",
   "metadata": {},
   "source": [
    "### Create a file \"unnecessary_math.py\" with the following contents:"
   ]
  },
  {
   "cell_type": "raw",
   "metadata": {},
   "source": [
    "'''\n",
    "Module showing how doctests can be included with source code\n",
    "Each '>>>' line is run as if in a python shell, and counts as a test.\n",
    "The next line, if not '>>>' is the expected output of the previous line.\n",
    "If anything doesn't match exactly (including trailing spaces), the test fails.\n",
    "'''\n",
    " \n",
    "def multiply(a, b):\n",
    "    \"\"\"\n",
    "    >>> multiply(4, 3)\n",
    "    12\n",
    "    >>> multiply('a', 3)\n",
    "    'aaa'\n",
    "     \"\"\"\n",
    "    return a * b\n"
   ]
  },
  {
   "cell_type": "raw",
   "metadata": {},
   "source": [
    "in bash, run:\n",
    "> python -m doctest <file>\n"
   ]
  },
  {
   "cell_type": "raw",
   "metadata": {},
   "source": [
    "--- no output, since all tests passed. ---"
   ]
  },
  {
   "cell_type": "raw",
   "metadata": {},
   "source": [
    "or\n",
    "> python -m doctest -v <file>"
   ]
  },
  {
   "cell_type": "raw",
   "metadata": {},
   "source": [
    "Trying:\n",
    "    multiply(4, 3)\n",
    "Expecting:\n",
    "    12\n",
    "ok\n",
    "Trying:\n",
    "    multiply('a', 3)\n",
    "Expecting:\n",
    "    'aaa'\n",
    "ok\n",
    "1 items had no tests:\n",
    "    unnecessary_math\n",
    "1 items passed all tests:\n",
    "   2 tests in unnecessary_math.multiply\n",
    "2 tests in 2 items.\n",
    "2 passed and 0 failed.\n",
    "Test passed."
   ]
  },
  {
   "cell_type": "markdown",
   "metadata": {},
   "source": [
    "### doctest also works for text files"
   ]
  },
  {
   "cell_type": "raw",
   "metadata": {},
   "source": [
    "# test_unnecessary_math.txt\n",
    "\n",
    "This is a doctest based regression suite for unnecessary_math.py\n",
    "Each '>>' line is run as if in a python shell, and counts as a test.\n",
    "The next line, if not '>>' is the expected output of the previous line.\n",
    "If anything doesn't match exactly (including trailing spaces), the test fails.\n",
    " \n",
    ">>> from unnecessary_math import multiply\n",
    ">>> multiply(3, 4)\n",
    "12\n",
    ">>> multiply('a', 3)\n",
    "'aaa'\n"
   ]
  },
  {
   "cell_type": "raw",
   "metadata": {},
   "source": [
    "in bash, run:\n",
    "python -m doctest -v test_unnecessary_math.txt"
   ]
  },
  {
   "cell_type": "raw",
   "metadata": {},
   "source": [
    "Trying:\n",
    "    from unnecessary_math import multiply\n",
    "Expecting nothing\n",
    "ok\n",
    "Trying:\n",
    "    multiply(3, 4)\n",
    "Expecting:\n",
    "    12\n",
    "ok\n",
    "Trying:\n",
    "    multiply('a', 3)\n",
    "Expecting:\n",
    "    'aaa'\n",
    "ok\n",
    "1 items passed all tests:\n",
    "   3 tests in test_unnecessary_math.txt\n",
    "3 tests in 1 items.\n",
    "3 passed and 0 failed.\n",
    "Test passed.\n"
   ]
  },
  {
   "cell_type": "code",
   "execution_count": 83,
   "metadata": {
    "collapsed": false
   },
   "outputs": [],
   "source": []
  },
  {
   "cell_type": "markdown",
   "metadata": {},
   "source": [
    "# Unittest"
   ]
  },
  {
   "cell_type": "code",
   "execution_count": 1,
   "metadata": {
    "collapsed": false
   },
   "outputs": [],
   "source": [
    "class unnecessary_math:\n",
    "    def multiply(a,b):\n",
    "        return a * b"
   ]
  },
  {
   "cell_type": "code",
   "execution_count": 2,
   "metadata": {
    "collapsed": false
   },
   "outputs": [
    {
     "data": {
      "text/plain": [
       "<module 'unittest' from '/usr/lib/python3.4/unittest/__init__.py'>"
      ]
     },
     "execution_count": 2,
     "metadata": {},
     "output_type": "execute_result"
    }
   ],
   "source": [
    "import unittest\n",
    "\n",
    "class TestUM(unittest.TestCase):\n",
    "    \n",
    "    def setup(self):\n",
    "        print(self.id())  # prints current test.\n",
    "        # run before each test.\n",
    "        pass\n",
    "    \n",
    "    def test_numbers_3_4(self):\n",
    "        self.assertEqual( unnecessary_math.multiply(3,4), 12)\n",
    "        \n",
    "    def test_strings_a_3(self):\n",
    "        self.assertEqual( unnecessary_math.multiply('a',3), 'aaa')\n",
    "        \n",
    "    def tearDown(self):\n",
    "        # run after each test.\n",
    "        pass\n",
    "        \n",
    "unittest"
   ]
  },
  {
   "cell_type": "raw",
   "metadata": {},
   "source": [
    "\n",
    "if __name__ == '__main__':\n",
    "    unittest.main()\n",
    "\n",
    "allows you to run the test from the console"
   ]
  },
  {
   "cell_type": "code",
   "execution_count": null,
   "metadata": {
    "collapsed": false
   },
   "outputs": [],
   "source": []
  }
 ],
 "metadata": {
  "kernelspec": {
   "display_name": "Python 3",
   "language": "python",
   "name": "python3"
  },
  "language_info": {
   "codemirror_mode": {
    "name": "ipython",
    "version": 3
   },
   "file_extension": ".py",
   "mimetype": "text/x-python",
   "name": "python",
   "nbconvert_exporter": "python",
   "pygments_lexer": "ipython3",
   "version": "3.5.2"
  }
 },
 "nbformat": 4,
 "nbformat_minor": 0
}
