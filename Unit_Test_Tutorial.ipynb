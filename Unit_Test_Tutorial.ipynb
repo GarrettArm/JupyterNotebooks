{
 "metadata": {
  "name": ""
 },
 "nbformat": 3,
 "nbformat_minor": 0,
 "worksheets": [
  {
   "cells": [
    {
     "cell_type": "heading",
     "level": 1,
     "metadata": {},
     "source": [
      "doctest"
     ]
    },
    {
     "cell_type": "heading",
     "level": 3,
     "metadata": {},
     "source": [
      "Create a file \"unnecessary_math.py\" with the following contents:"
     ]
    },
    {
     "cell_type": "raw",
     "metadata": {},
     "source": [
      "'''\n",
      "Module showing how doctests can be included with source code\n",
      "Each '>>>' line is run as if in a python shell, and counts as a test.\n",
      "The next line, if not '>>>' is the expected output of the previous line.\n",
      "If anything doesn't match exactly (including trailing spaces), the test fails.\n",
      "'''\n",
      " \n",
      "def multiply(a, b):\n",
      "    \"\"\"\n",
      "    >>> multiply(4, 3)\n",
      "    12\n",
      "    >>> multiply('a', 3)\n",
      "    'aaa'\n",
      "     \"\"\"\n",
      "    return a * b\n"
     ]
    },
    {
     "cell_type": "raw",
     "metadata": {},
     "source": [
      "in bash, run:\n",
      "> python -m doctest <file>\n"
     ]
    },
    {
     "cell_type": "raw",
     "metadata": {},
     "source": [
      "--- no output, since all tests passed. ---"
     ]
    },
    {
     "cell_type": "raw",
     "metadata": {},
     "source": [
      "or\n",
      "> python -m doctest -v <file>"
     ]
    },
    {
     "cell_type": "raw",
     "metadata": {},
     "source": [
      "Trying:\n",
      "    multiply(4, 3)\n",
      "Expecting:\n",
      "    12\n",
      "ok\n",
      "Trying:\n",
      "    multiply('a', 3)\n",
      "Expecting:\n",
      "    'aaa'\n",
      "ok\n",
      "1 items had no tests:\n",
      "    unnecessary_math\n",
      "1 items passed all tests:\n",
      "   2 tests in unnecessary_math.multiply\n",
      "2 tests in 2 items.\n",
      "2 passed and 0 failed.\n",
      "Test passed."
     ]
    },
    {
     "cell_type": "heading",
     "level": 3,
     "metadata": {},
     "source": [
      "doctest also works for text files"
     ]
    },
    {
     "cell_type": "raw",
     "metadata": {},
     "source": [
      "# test_unnecessary_math.txt\n",
      "\n",
      "This is a doctest based regression suite for unnecessary_math.py\n",
      "Each '>>' line is run as if in a python shell, and counts as a test.\n",
      "The next line, if not '>>' is the expected output of the previous line.\n",
      "If anything doesn't match exactly (including trailing spaces), the test fails.\n",
      " \n",
      ">>> from unnecessary_math import multiply\n",
      ">>> multiply(3, 4)\n",
      "12\n",
      ">>> multiply('a', 3)\n",
      "'aaa'\n"
     ]
    },
    {
     "cell_type": "raw",
     "metadata": {},
     "source": [
      "in bash, run:\n",
      "python -m doctest -v test_unnecessary_math.txt"
     ]
    },
    {
     "cell_type": "raw",
     "metadata": {},
     "source": [
      "Trying:\n",
      "    from unnecessary_math import multiply\n",
      "Expecting nothing\n",
      "ok\n",
      "Trying:\n",
      "    multiply(3, 4)\n",
      "Expecting:\n",
      "    12\n",
      "ok\n",
      "Trying:\n",
      "    multiply('a', 3)\n",
      "Expecting:\n",
      "    'aaa'\n",
      "ok\n",
      "1 items passed all tests:\n",
      "   3 tests in test_unnecessary_math.txt\n",
      "3 tests in 1 items.\n",
      "3 passed and 0 failed.\n",
      "Test passed.\n"
     ]
    },
    {
     "cell_type": "code",
     "collapsed": false,
     "input": [],
     "language": "python",
     "metadata": {},
     "outputs": [],
     "prompt_number": 83
    },
    {
     "cell_type": "heading",
     "level": 1,
     "metadata": {},
     "source": [
      "Unittest"
     ]
    },
    {
     "cell_type": "code",
     "collapsed": false,
     "input": [
      "class unnecessary_math:\n",
      "    def multiply(a,b):\n",
      "        return a * b"
     ],
     "language": "python",
     "metadata": {},
     "outputs": [],
     "prompt_number": 1
    },
    {
     "cell_type": "code",
     "collapsed": false,
     "input": [
      "import unittest\n",
      "\n",
      "class TestUM(unittest.TestCase):\n",
      "    \n",
      "    def setup(self):\n",
      "        print(self.id())  # prints current test.\n",
      "        # run before each test.\n",
      "        pass\n",
      "    \n",
      "    def test_numbers_3_4(self):\n",
      "        self.assertEqual( unnecessary_math.multiply(3,4), 12)\n",
      "        \n",
      "    def test_strings_a_3(self):\n",
      "        self.assertEqual( unnecessary_math.multiply('a',3), 'aaa')\n",
      "        \n",
      "    def tearDown(self):\n",
      "        # run after each test.\n",
      "        pass\n",
      "        \n",
      "unittest"
     ],
     "language": "python",
     "metadata": {},
     "outputs": [
      {
       "metadata": {},
       "output_type": "pyout",
       "prompt_number": 2,
       "text": [
        "<module 'unittest' from '/usr/lib/python3.4/unittest/__init__.py'>"
       ]
      }
     ],
     "prompt_number": 2
    },
    {
     "cell_type": "raw",
     "metadata": {},
     "source": [
      "\n",
      "if __name__ == '__main__':\n",
      "    unittest.main()\n",
      "\n",
      "allows you to run the test from the console"
     ]
    },
    {
     "cell_type": "code",
     "collapsed": false,
     "input": [],
     "language": "python",
     "metadata": {},
     "outputs": []
    }
   ],
   "metadata": {}
  }
 ]
}