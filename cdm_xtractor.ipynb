{
 "metadata": {
  "name": ""
 },
 "nbformat": 3,
 "nbformat_minor": 0,
 "worksheets": [
  {
   "cells": [
    {
     "cell_type": "code",
     "collapsed": false,
     "input": [
      "import os\n",
      "os.chdir('/home/james/Desktop/lsu_projects/cdm_xporter/')\n",
      "os.getcwd()"
     ],
     "language": "python",
     "metadata": {},
     "outputs": [
      {
       "metadata": {},
       "output_type": "pyout",
       "prompt_number": 190,
       "text": [
        "'/home/james/Desktop/lsu_projects/cdm_xporter'"
       ]
      }
     ],
     "prompt_number": 190
    },
    {
     "cell_type": "code",
     "collapsed": false,
     "input": [
      "import xmlify\n",
      "import xml.etree.ElementTree as ET\n",
      "import pull_from_cdm as p\n",
      "\n",
      "import importlib\n",
      "importlib.reload(p)\n",
      "importlib.reload(ET)\n",
      "importlib.reload(xmlify)\n"
     ],
     "language": "python",
     "metadata": {},
     "outputs": [
      {
       "metadata": {},
       "output_type": "pyout",
       "prompt_number": 191,
       "text": [
        "<module 'xmlify' from '/home/james/Desktop/lsu_projects/cdm_xporter/xmlify.py'>"
       ]
      }
     ],
     "prompt_number": 191
    },
    {
     "cell_type": "code",
     "collapsed": false,
     "input": [
      "alias = 'p15140coll30'"
     ],
     "language": "python",
     "metadata": {},
     "outputs": [],
     "prompt_number": 183
    },
    {
     "cell_type": "code",
     "collapsed": false,
     "input": [
      "xmlify.xmlify_a"
     ],
     "language": "python",
     "metadata": {},
     "outputs": [],
     "prompt_number": 183
    },
    {
     "cell_type": "code",
     "collapsed": false,
     "input": [
      "item_text = p.retrieve_item_metadata(alias, '35')"
     ],
     "language": "python",
     "metadata": {},
     "outputs": [],
     "prompt_number": 196
    },
    {
     "cell_type": "code",
     "collapsed": false,
     "input": [
      "print(item_text)"
     ],
     "language": "python",
     "metadata": {},
     "outputs": [
      {
       "output_type": "stream",
       "stream": "stdout",
       "text": [
        "<?xml version=\"1.0\" encoding=\"UTF-8\"?>\n",
        "<xml>\n",
        "<title>Aleman Estate (Hathaway Gibbens) Collection, No. 9</title>\r\n",
        "<subjec>\u201cPublic Library, New Orleans, La.\u201d</subjec>\r\n",
        "<date>[ca. 1909]</date>\r\n",
        "<publis>New Orleans News Company, New Orleans, La.</publis>\r\n",
        "<descri>Photogravure on postcard stock</descri>\r\n",
        "<plugin>Corners chipped; otherwise good</plugin>\r\n",
        "<notes>Printed in Germany.  Publisher no. D 10020.  Post office cancellation on reverse dated October 13, 1909.  Sent by Mary O\u2019Keefe to Miss Hathaway Gibbens, Ursuline  Academy, New Orleans, La.</notes>\r\n",
        "<type>Image</type>\r\n",
        "<format>TIFF</format>\r\n",
        "<identi>See &#x27;reference URL&#x27; on the navigational bars</identi>\r\n",
        "<langua>en</langua>\r\n",
        "<relati>http://www.louisianadigitallibrary.org/cdm4/index_p15140coll30.php?CISOROOT=/p15140coll30</relati>\r\n",
        "<covera>New Orleans (La.)</covera>\r\n",
        "<coverb>1903-1915</coverb>\r\n",
        "<series>1</series>\r\n",
        "<seriea>Views of Louisiana, 1905-ca. 1912 (21 items)</seriea>\r\n",
        "<subser>1</subser>\r\n",
        "<subsea>New Orleans, 1906-ca. 1912 (15 items). Parks and public squares figure prominently among these viewcards, which also include images of the Public Library; the arrival of Rex, King of Carnival; and Ursuline Convent, where Hathaway Gibbens was educated.</subsea>\r\n",
        "<source>Louisiana and Special Collection Department, Earl K. Long Library, University of New Orleans</source>\r\n",
        "<rights>Physical rights are retained by the Earl K. Long Library, University of New Orleans. No access restrictions.</rights>\r\n",
        "<catlog>KMP</catlog>\r\n",
        "<catalo>2010-05-31</catalo>\r\n",
        "<object>ae000009</object>\r\n",
        "<image>600 DPI</image>\r\n",
        "<imaga>16-bit</imaga>\r\n",
        "<color>Color</color>\r\n",
        "<extent></extent>\r\n",
        "<imagb>Unsharp mask (150%)</imagb>\r\n",
        "<file></file>\r\n",
        "<hardwa>Fujitsu fi-4220c2 flatbed scanner; Adobe Photoshop CS3</hardwa>\r\n",
        "<digiti>KMP</digiti>\r\n",
        "<digita>2010-05-26</digita>\r\n",
        "<index>Aleman, Hathaway Gibbens; Aleman Family; Greeting cards; Louisiana--Views; Mississippi--Views; New Orleans, La.--Views; Postcards</index>\r\n",
        "<fullrs></fullrs>\r\n",
        "<find>36.cpd</find>\r\n",
        "<dmaccess></dmaccess>\r\n",
        "<dmimage></dmimage>\r\n",
        "<dmcreated>2010-05-31</dmcreated>\r\n",
        "<dmmodified>2010-05-31</dmmodified>\r\n",
        "<dmoclcno></dmoclcno>\r\n",
        "<dmrecord>35</dmrecord>\r\n",
        "<restrictionCode>1</restrictionCode>\n",
        "<cdmfilesize>324</cdmfilesize>\n",
        "<cdmfilesizeformatted>0.00 MB</cdmfilesizeformatted>\n",
        "<cdmprintpdf>0</cdmprintpdf>\n",
        "<cdmhasocr>0</cdmhasocr>\n",
        "<cdmisnewspaper>0</cdmisnewspaper>\n",
        "</xml>\n",
        "\n"
       ]
      }
     ],
     "prompt_number": 202
    },
    {
     "cell_type": "code",
     "collapsed": false,
     "input": [
      "item_xml = ET.fromstring(item_text)"
     ],
     "language": "python",
     "metadata": {},
     "outputs": [],
     "prompt_number": 197
    },
    {
     "cell_type": "code",
     "collapsed": false,
     "input": [
      "local_etree = ET.Element('SOME ROOT')"
     ],
     "language": "python",
     "metadata": {},
     "outputs": [],
     "prompt_number": 198
    },
    {
     "cell_type": "code",
     "collapsed": false,
     "input": [
      "local_etree.append(item_xml)"
     ],
     "language": "python",
     "metadata": {},
     "outputs": [],
     "prompt_number": 199
    },
    {
     "cell_type": "code",
     "collapsed": false,
     "input": [
      "print(ET.tostring(local_etree))"
     ],
     "language": "python",
     "metadata": {},
     "outputs": [
      {
       "output_type": "stream",
       "stream": "stdout",
       "text": [
        "b\"<SOME ROOT><xml>\\n<title>Aleman Estate (Hathaway Gibbens) Collection, No. 9</title>\\n<subjec>&#8220;Public Library, New Orleans, La.&#8221;</subjec>\\n<date>[ca. 1909]</date>\\n<publis>New Orleans News Company, New Orleans, La.</publis>\\n<descri>Photogravure on postcard stock</descri>\\n<plugin>Corners chipped; otherwise good</plugin>\\n<notes>Printed in Germany.  Publisher no. D 10020.  Post office cancellation on reverse dated October 13, 1909.  Sent by Mary O&#8217;Keefe to Miss Hathaway Gibbens, Ursuline  Academy, New Orleans, La.</notes>\\n<type>Image</type>\\n<format>TIFF</format>\\n<identi>See 'reference URL' on the navigational bars</identi>\\n<langua>en</langua>\\n<relati>http://www.louisianadigitallibrary.org/cdm4/index_p15140coll30.php?CISOROOT=/p15140coll30</relati>\\n<covera>New Orleans (La.)</covera>\\n<coverb>1903-1915</coverb>\\n<series>1</series>\\n<seriea>Views of Louisiana, 1905-ca. 1912 (21 items)</seriea>\\n<subser>1</subser>\\n<subsea>New Orleans, 1906-ca. 1912 (15 items). Parks and public squares figure prominently among these viewcards, which also include images of the Public Library; the arrival of Rex, King of Carnival; and Ursuline Convent, where Hathaway Gibbens was educated.</subsea>\\n<source>Louisiana and Special Collection Department, Earl K. Long Library, University of New Orleans</source>\\n<rights>Physical rights are retained by the Earl K. Long Library, University of New Orleans. No access restrictions.</rights>\\n<catlog>KMP</catlog>\\n<catalo>2010-05-31</catalo>\\n<object>ae000009</object>\\n<image>600 DPI</image>\\n<imaga>16-bit</imaga>\\n<color>Color</color>\\n<extent />\\n<imagb>Unsharp mask (150%)</imagb>\\n<file />\\n<hardwa>Fujitsu fi-4220c2 flatbed scanner; Adobe Photoshop CS3</hardwa>\\n<digiti>KMP</digiti>\\n<digita>2010-05-26</digita>\\n<index>Aleman, Hathaway Gibbens; Aleman Family; Greeting cards; Louisiana--Views; Mississippi--Views; New Orleans, La.--Views; Postcards</index>\\n<fullrs />\\n<find>36.cpd</find>\\n<dmaccess />\\n<dmimage />\\n<dmcreated>2010-05-31</dmcreated>\\n<dmmodified>2010-05-31</dmmodified>\\n<dmoclcno />\\n<dmrecord>35</dmrecord>\\n<restrictionCode>1</restrictionCode>\\n<cdmfilesize>324</cdmfilesize>\\n<cdmfilesizeformatted>0.00 MB</cdmfilesizeformatted>\\n<cdmprintpdf>0</cdmprintpdf>\\n<cdmhasocr>0</cdmhasocr>\\n<cdmisnewspaper>0</cdmisnewspaper>\\n</xml></SOME ROOT>\"\n"
       ]
      }
     ],
     "prompt_number": 201
    },
    {
     "cell_type": "code",
     "collapsed": false,
     "input": [],
     "language": "python",
     "metadata": {},
     "outputs": [],
     "prompt_number": 187
    },
    {
     "cell_type": "code",
     "collapsed": false,
     "input": [],
     "language": "python",
     "metadata": {},
     "outputs": [],
     "prompt_number": 188
    },
    {
     "cell_type": "code",
     "collapsed": false,
     "input": [],
     "language": "python",
     "metadata": {},
     "outputs": [
      {
       "output_type": "stream",
       "stream": "stdout",
       "text": [
        "p15140coll30 17 cpd\n",
        "\ufeff<?xml version=\"1.0\" encoding=\"utf-8\"?>\n",
        "<cpd>\n",
        "  <type>Document</type>\n",
        "  <page>\n",
        "    <pagetitle>Front image</pagetitle>\n",
        "    <pagefile>16.jp2</pagefile>\n",
        "    <pageptr>15</pageptr>\n",
        "  </page>\n",
        "  <page>\n",
        "    <pagetitle>Back image</pagetitle>\n",
        "    <pagefile>17.jp2</pagefile>\n",
        "    <pageptr>16</pageptr>\n",
        "  </page>\n",
        "</cpd>\n"
       ]
      },
      {
       "output_type": "stream",
       "stream": "stdout",
       "text": [
        "\n",
        "p15140coll30 213 cpd\n",
        "\ufeff<?xml version=\"1.0\" encoding=\"utf-8\"?>\n",
        "<cpd>\n",
        "  <type>Document</type>\n",
        "  <page>\n",
        "    <pagetitle>Front image</pagetitle>\n",
        "    <pagefile>212.jp2</pagefile>\n",
        "    <pageptr>211</pageptr>\n",
        "  </page>\n",
        "  <page>\n",
        "    <pagetitle>Back image</pagetitle>\n",
        "    <pagefile>213.jp2</pagefile>\n",
        "    <pageptr>212</pageptr>\n",
        "  </page>\n",
        "</cpd>\n"
       ]
      },
      {
       "output_type": "stream",
       "stream": "stdout",
       "text": [
        "\n",
        "p15140coll30 95 cpd\n",
        "\ufeff<?xml version=\"1.0\" encoding=\"utf-8\"?>\n",
        "<cpd>\n",
        "  <type>Document</type>\n",
        "  <page>\n",
        "    <pagetitle>Front image</pagetitle>\n",
        "    <pagefile>94.jp2</pagefile>\n",
        "    <pageptr>93</pageptr>\n",
        "  </page>\n",
        "  <page>\n",
        "    <pagetitle>Back image</pagetitle>\n",
        "    <pagefile>95.jp2</pagefile>\n",
        "    <pageptr>94</pageptr>\n",
        "  </page>\n",
        "</cpd>\n"
       ]
      },
      {
       "output_type": "stream",
       "stream": "stdout",
       "text": [
        "\n",
        "p15140coll30 216 cpd\n",
        "\ufeff<?xml version=\"1.0\" encoding=\"utf-8\"?>\n",
        "<cpd>\n",
        "  <type>Document</type>\n",
        "  <page>\n",
        "    <pagetitle>Front image</pagetitle>\n",
        "    <pagefile>215.jp2</pagefile>\n",
        "    <pageptr>214</pageptr>\n",
        "  </page>\n",
        "  <page>\n",
        "    <pagetitle>Back image</pagetitle>\n",
        "    <pagefile>216.jp2</pagefile>\n",
        "    <pageptr>215</pageptr>\n",
        "  </page>\n",
        "</cpd>\n"
       ]
      },
      {
       "output_type": "stream",
       "stream": "stdout",
       "text": [
        "\n",
        "p15140coll30 210 cpd\n",
        "\ufeff<?xml version=\"1.0\" encoding=\"utf-8\"?>\n",
        "<cpd>\n",
        "  <type>Document</type>\n",
        "  <page>\n",
        "    <pagetitle>Front image</pagetitle>\n",
        "    <pagefile>209.jp2</pagefile>\n",
        "    <pageptr>208</pageptr>\n",
        "  </page>\n",
        "  <page>\n",
        "    <pagetitle>Back image</pagetitle>\n",
        "    <pagefile>210.jp2</pagefile>\n",
        "    <pageptr>209</pageptr>\n",
        "  </page>\n",
        "</cpd>\n"
       ]
      },
      {
       "output_type": "stream",
       "stream": "stdout",
       "text": [
        "\n",
        "p15140coll30 104 cpd\n",
        "\ufeff<?xml version=\"1.0\" encoding=\"utf-8\"?>\n",
        "<cpd>\n",
        "  <type>Document</type>\n",
        "  <page>\n",
        "    <pagetitle>Front image</pagetitle>\n",
        "    <pagefile>103.jp2</pagefile>\n",
        "    <pageptr>102</pageptr>\n",
        "  </page>\n",
        "  <page>\n",
        "    <pagetitle>Back image</pagetitle>\n",
        "    <pagefile>104.jp2</pagefile>\n",
        "    <pageptr>103</pageptr>\n",
        "  </page>\n",
        "</cpd>\n"
       ]
      },
      {
       "output_type": "stream",
       "stream": "stdout",
       "text": [
        "\n",
        "p15140coll30 204 cpd\n",
        "\ufeff<?xml version=\"1.0\" encoding=\"utf-8\"?>\n",
        "<cpd>\n",
        "  <type>Document</type>\n",
        "  <page>\n",
        "    <pagetitle>Front image</pagetitle>\n",
        "    <pagefile>203.jp2</pagefile>\n",
        "    <pageptr>202</pageptr>\n",
        "  </page>\n",
        "  <page>\n",
        "    <pagetitle>Back image</pagetitle>\n",
        "    <pagefile>204.jp2</pagefile>\n",
        "    <pageptr>203</pageptr>\n",
        "  </page>\n",
        "</cpd>\n"
       ]
      },
      {
       "output_type": "stream",
       "stream": "stdout",
       "text": [
        "\n",
        "p15140coll30 56 cpd\n",
        "\ufeff<?xml version=\"1.0\" encoding=\"utf-8\"?>\n",
        "<cpd>\n",
        "  <type>Document</type>\n",
        "  <page>\n",
        "    <pagetitle>Front image</pagetitle>\n",
        "    <pagefile>55.jp2</pagefile>\n",
        "    <pageptr>54</pageptr>\n",
        "  </page>\n",
        "  <page>\n",
        "    <pagetitle>Back image</pagetitle>\n",
        "    <pagefile>56.jp2</pagefile>\n",
        "    <pageptr>55</pageptr>\n",
        "  </page>\n",
        "</cpd>\n"
       ]
      },
      {
       "output_type": "stream",
       "stream": "stdout",
       "text": [
        "\n",
        "p15140coll30 80 cpd\n",
        "\ufeff<?xml version=\"1.0\" encoding=\"utf-8\"?>\n",
        "<cpd>\n",
        "  <type>Document</type>\n",
        "  <page>\n",
        "    <pagetitle>Front image</pagetitle>\n",
        "    <pagefile>79.jp2</pagefile>\n",
        "    <pageptr>78</pageptr>\n",
        "  </page>\n",
        "  <page>\n",
        "    <pagetitle>Back image</pagetitle>\n",
        "    <pagefile>80.jp2</pagefile>\n",
        "    <pageptr>79</pageptr>\n",
        "  </page>\n",
        "</cpd>\n"
       ]
      },
      {
       "output_type": "stream",
       "stream": "stdout",
       "text": [
        "\n",
        "p15140coll30 167 cpd\n",
        "\ufeff<?xml version=\"1.0\" encoding=\"utf-8\"?>\n",
        "<cpd>\n",
        "  <type>Document</type>\n",
        "  <page>\n",
        "    <pagetitle>Front image</pagetitle>\n",
        "    <pagefile>166.jp2</pagefile>\n",
        "    <pageptr>165</pageptr>\n",
        "  </page>\n",
        "  <page>\n",
        "    <pagetitle>Back image</pagetitle>\n",
        "    <pagefile>167.jp2</pagefile>\n",
        "    <pageptr>166</pageptr>\n",
        "  </page>\n",
        "</cpd>\n"
       ]
      },
      {
       "output_type": "stream",
       "stream": "stdout",
       "text": [
        "\n",
        "p15140coll30 116 cpd\n",
        "\ufeff<?xml version=\"1.0\" encoding=\"utf-8\"?>\n",
        "<cpd>\n",
        "  <type>Document</type>\n",
        "  <page>\n",
        "    <pagetitle>Front image</pagetitle>\n",
        "    <pagefile>115.jp2</pagefile>\n",
        "    <pageptr>114</pageptr>\n",
        "  </page>\n",
        "  <page>\n",
        "    <pagetitle>Back image</pagetitle>\n",
        "    <pagefile>116.jp2</pagefile>\n",
        "    <pageptr>115</pageptr>\n",
        "  </page>\n",
        "</cpd>\n"
       ]
      },
      {
       "output_type": "stream",
       "stream": "stdout",
       "text": [
        "\n",
        "p15140coll30 86 cpd\n",
        "\ufeff<?xml version=\"1.0\" encoding=\"utf-8\"?>\n",
        "<cpd>\n",
        "  <type>Document</type>\n",
        "  <page>\n",
        "    <pagetitle>Front image</pagetitle>\n",
        "    <pagefile>85.jp2</pagefile>\n",
        "    <pageptr>84</pageptr>\n",
        "  </page>\n",
        "  <page>\n",
        "    <pagetitle>Back image</pagetitle>\n",
        "    <pagefile>86.jp2</pagefile>\n",
        "    <pageptr>85</pageptr>\n",
        "  </page>\n",
        "</cpd>\n"
       ]
      },
      {
       "output_type": "stream",
       "stream": "stdout",
       "text": [
        "\n",
        "p15140coll30 32 cpd\n",
        "\ufeff<?xml version=\"1.0\" encoding=\"utf-8\"?>\n",
        "<cpd>\n",
        "  <type>Document</type>\n",
        "  <page>\n",
        "    <pagetitle>Front image</pagetitle>\n",
        "    <pagefile>31.jp2</pagefile>\n",
        "    <pageptr>30</pageptr>\n",
        "  </page>\n",
        "  <page>\n",
        "    <pagetitle>Back image</pagetitle>\n",
        "    <pagefile>32.jp2</pagefile>\n",
        "    <pageptr>31</pageptr>\n",
        "  </page>\n",
        "</cpd>\n"
       ]
      },
      {
       "output_type": "stream",
       "stream": "stdout",
       "text": [
        "\n",
        "p15140coll30 176 cpd\n",
        "\ufeff<?xml version=\"1.0\" encoding=\"utf-8\"?>\n",
        "<cpd>\n",
        "  <type>Document</type>\n",
        "  <page>\n",
        "    <pagetitle>Front image</pagetitle>\n",
        "    <pagefile>175.jp2</pagefile>\n",
        "    <pageptr>174</pageptr>\n",
        "  </page>\n",
        "  <page>\n",
        "    <pagetitle>Back image</pagetitle>\n",
        "    <pagefile>176.jp2</pagefile>\n",
        "    <pageptr>175</pageptr>\n",
        "  </page>\n",
        "</cpd>\n"
       ]
      },
      {
       "output_type": "stream",
       "stream": "stdout",
       "text": [
        "\n",
        "p15140coll30 20 cpd\n",
        "\ufeff<?xml version=\"1.0\" encoding=\"utf-8\"?>\n",
        "<cpd>\n",
        "  <type>Document</type>\n",
        "  <page>\n",
        "    <pagetitle>Front image</pagetitle>\n",
        "    <pagefile>19.jp2</pagefile>\n",
        "    <pageptr>18</pageptr>\n",
        "  </page>\n",
        "  <page>\n",
        "    <pagetitle>Back image</pagetitle>\n",
        "    <pagefile>20.jp2</pagefile>\n",
        "    <pageptr>19</pageptr>\n",
        "  </page>\n",
        "</cpd>\n"
       ]
      },
      {
       "output_type": "stream",
       "stream": "stdout",
       "text": [
        "\n",
        "p15140coll30 113 cpd\n",
        "\ufeff<?xml version=\"1.0\" encoding=\"utf-8\"?>\n",
        "<cpd>\n",
        "  <type>Document</type>\n",
        "  <page>\n",
        "    <pagetitle>Front image</pagetitle>\n",
        "    <pagefile>112.jp2</pagefile>\n",
        "    <pageptr>111</pageptr>\n",
        "  </page>\n",
        "  <page>\n",
        "    <pagetitle>Back image</pagetitle>\n",
        "    <pagefile>113.jp2</pagefile>\n",
        "    <pageptr>112</pageptr>\n",
        "  </page>\n",
        "</cpd>\n"
       ]
      },
      {
       "output_type": "stream",
       "stream": "stdout",
       "text": [
        "\n",
        "p15140coll30 44 cpd\n",
        "\ufeff<?xml version=\"1.0\" encoding=\"utf-8\"?>\n",
        "<cpd>\n",
        "  <type>Document</type>\n",
        "  <page>\n",
        "    <pagetitle>Front image</pagetitle>\n",
        "    <pagefile>43.jp2</pagefile>\n",
        "    <pageptr>42</pageptr>\n",
        "  </page>\n",
        "  <page>\n",
        "    <pagetitle>Back image</pagetitle>\n",
        "    <pagefile>44.jp2</pagefile>\n",
        "    <pageptr>43</pageptr>\n",
        "  </page>\n",
        "</cpd>\n"
       ]
      },
      {
       "output_type": "stream",
       "stream": "stdout",
       "text": [
        "\n",
        "p15140coll30 14 cpd\n",
        "\ufeff<?xml version=\"1.0\" encoding=\"utf-8\"?>\n",
        "<cpd>\n",
        "  <type>Document</type>\n",
        "  <page>\n",
        "    <pagetitle>Front image</pagetitle>\n",
        "    <pagefile>13.jp2</pagefile>\n",
        "    <pageptr>12</pageptr>\n",
        "  </page>\n",
        "  <page>\n",
        "    <pagetitle>Back image</pagetitle>\n",
        "    <pagefile>14.jp2</pagefile>\n",
        "    <pageptr>13</pageptr>\n",
        "  </page>\n",
        "</cpd>\n"
       ]
      },
      {
       "output_type": "stream",
       "stream": "stdout",
       "text": [
        "\n",
        "p15140coll30 68 cpd\n",
        "\ufeff<?xml version=\"1.0\" encoding=\"utf-8\"?>\n",
        "<cpd>\n",
        "  <type>Document</type>\n",
        "  <page>\n",
        "    <pagetitle>Front image</pagetitle>\n",
        "    <pagefile>67.jp2</pagefile>\n",
        "    <pageptr>66</pageptr>\n",
        "  </page>\n",
        "  <page>\n",
        "    <pagetitle>Back image</pagetitle>\n",
        "    <pagefile>68.jp2</pagefile>\n",
        "    <pageptr>67</pageptr>\n",
        "  </page>\n",
        "</cpd>\n"
       ]
      },
      {
       "output_type": "stream",
       "stream": "stdout",
       "text": [
        "\n",
        "p15140coll30 89 cpd\n",
        "\ufeff<?xml version=\"1.0\" encoding=\"utf-8\"?>\n",
        "<cpd>\n",
        "  <type>Document</type>\n",
        "  <page>\n",
        "    <pagetitle>Front image</pagetitle>\n",
        "    <pagefile>88.jp2</pagefile>\n",
        "    <pageptr>87</pageptr>\n",
        "  </page>\n",
        "  <page>\n",
        "    <pagetitle>Back image</pagetitle>\n",
        "    <pagefile>89.jp2</pagefile>\n",
        "    <pageptr>88</pageptr>\n",
        "  </page>\n",
        "</cpd>\n"
       ]
      },
      {
       "output_type": "stream",
       "stream": "stdout",
       "text": [
        "\n",
        "p15140coll30 41 cpd\n",
        "\ufeff<?xml version=\"1.0\" encoding=\"utf-8\"?>\n",
        "<cpd>\n",
        "  <type>Document</type>\n",
        "  <page>\n",
        "    <pagetitle>Front image</pagetitle>\n",
        "    <pagefile>40.jp2</pagefile>\n",
        "    <pageptr>39</pageptr>\n",
        "  </page>\n",
        "  <page>\n",
        "    <pagetitle>Back image</pagetitle>\n",
        "    <pagefile>41.jp2</pagefile>\n",
        "    <pageptr>40</pageptr>\n",
        "  </page>\n",
        "</cpd>\n"
       ]
      },
      {
       "output_type": "stream",
       "stream": "stdout",
       "text": [
        "\n",
        "p15140coll30 146 cpd\n",
        "\ufeff<?xml version=\"1.0\" encoding=\"utf-8\"?>\n",
        "<cpd>\n",
        "  <type>Document</type>\n",
        "  <page>\n",
        "    <pagetitle>Front image</pagetitle>\n",
        "    <pagefile>145.jp2</pagefile>\n",
        "    <pageptr>144</pageptr>\n",
        "  </page>\n",
        "  <page>\n",
        "    <pagetitle>Back image</pagetitle>\n",
        "    <pagefile>146.jp2</pagefile>\n",
        "    <pageptr>145</pageptr>\n",
        "  </page>\n",
        "</cpd>\n"
       ]
      },
      {
       "output_type": "stream",
       "stream": "stdout",
       "text": [
        "\n",
        "p15140coll30 158 cpd\n",
        "\ufeff<?xml version=\"1.0\" encoding=\"utf-8\"?>\n",
        "<cpd>\n",
        "  <type>Document</type>\n",
        "  <page>\n",
        "    <pagetitle>Front image</pagetitle>\n",
        "    <pagefile>157.jp2</pagefile>\n",
        "    <pageptr>156</pageptr>\n",
        "  </page>\n",
        "  <page>\n",
        "    <pagetitle>Back image</pagetitle>\n",
        "    <pagefile>158.jp2</pagefile>\n",
        "    <pageptr>157</pageptr>\n",
        "  </page>\n",
        "</cpd>\n"
       ]
      },
      {
       "output_type": "stream",
       "stream": "stdout",
       "text": [
        "\n",
        "p15140coll30 11 cpd\n",
        "\ufeff<?xml version=\"1.0\" encoding=\"utf-8\"?>\n",
        "<cpd>\n",
        "  <type>Document</type>\n",
        "  <page>\n",
        "    <pagetitle>Front image</pagetitle>\n",
        "    <pagefile>10.jp2</pagefile>\n",
        "    <pageptr>9</pageptr>\n",
        "  </page>\n",
        "  <page>\n",
        "    <pagetitle>Back image</pagetitle>\n",
        "    <pagefile>11.jp2</pagefile>\n",
        "    <pageptr>10</pageptr>\n",
        "  </page>\n",
        "</cpd>\n"
       ]
      },
      {
       "output_type": "stream",
       "stream": "stdout",
       "text": [
        "\n",
        "p15140coll30 155 cpd\n",
        "\ufeff<?xml version=\"1.0\" encoding=\"utf-8\"?>\n",
        "<cpd>\n",
        "  <type>Document</type>\n",
        "  <page>\n",
        "    <pagetitle>Front image</pagetitle>\n",
        "    <pagefile>154.jp2</pagefile>\n",
        "    <pageptr>153</pageptr>\n",
        "  </page>\n",
        "  <page>\n",
        "    <pagetitle>Back image</pagetitle>\n",
        "    <pagefile>155.jp2</pagefile>\n",
        "    <pageptr>154</pageptr>\n",
        "  </page>\n",
        "</cpd>\n"
       ]
      },
      {
       "output_type": "stream",
       "stream": "stdout",
       "text": [
        "\n",
        "p15140coll30 128 cpd\n",
        "\ufeff<?xml version=\"1.0\" encoding=\"utf-8\"?>\n",
        "<cpd>\n",
        "  <type>Document</type>\n",
        "  <page>\n",
        "    <pagetitle>Front image</pagetitle>\n",
        "    <pagefile>127.jp2</pagefile>\n",
        "    <pageptr>126</pageptr>\n",
        "  </page>\n",
        "  <page>\n",
        "    <pagetitle>Back image</pagetitle>\n",
        "    <pagefile>128.jp2</pagefile>\n",
        "    <pageptr>127</pageptr>\n",
        "  </page>\n",
        "</cpd>\n"
       ]
      },
      {
       "output_type": "stream",
       "stream": "stdout",
       "text": [
        "\n",
        "p15140coll30 207 cpd\n",
        "\ufeff<?xml version=\"1.0\" encoding=\"utf-8\"?>\n",
        "<cpd>\n",
        "  <type>Document</type>\n",
        "  <page>\n",
        "    <pagetitle>Front image</pagetitle>\n",
        "    <pagefile>206.jp2</pagefile>\n",
        "    <pageptr>205</pageptr>\n",
        "  </page>\n",
        "  <page>\n",
        "    <pagetitle>Back image</pagetitle>\n",
        "    <pagefile>207.jp2</pagefile>\n",
        "    <pageptr>206</pageptr>\n",
        "  </page>\n",
        "</cpd>\n"
       ]
      },
      {
       "output_type": "stream",
       "stream": "stdout",
       "text": [
        "\n",
        "p15140coll30 182 cpd\n",
        "\ufeff<?xml version=\"1.0\" encoding=\"utf-8\"?>\n",
        "<cpd>\n",
        "  <type>Document</type>\n",
        "  <page>\n",
        "    <pagetitle>Front image</pagetitle>\n",
        "    <pagefile>181.jp2</pagefile>\n",
        "    <pageptr>180</pageptr>\n",
        "  </page>\n",
        "  <page>\n",
        "    <pagetitle>Back image</pagetitle>\n",
        "    <pagefile>182.jp2</pagefile>\n",
        "    <pageptr>181</pageptr>\n",
        "  </page>\n",
        "</cpd>\n"
       ]
      },
      {
       "output_type": "stream",
       "stream": "stdout",
       "text": [
        "\n",
        "p15140coll30 198 cpd\n",
        "\ufeff<?xml version=\"1.0\" encoding=\"utf-8\"?>\n",
        "<cpd>\n",
        "  <type>Document</type>\n",
        "  <page>\n",
        "    <pagetitle>Front image</pagetitle>\n",
        "    <pagefile>197.jp2</pagefile>\n",
        "    <pageptr>196</pageptr>\n",
        "  </page>\n",
        "  <page>\n",
        "    <pagetitle>Back image</pagetitle>\n",
        "    <pagefile>198.jp2</pagefile>\n",
        "    <pageptr>197</pageptr>\n",
        "  </page>\n",
        "</cpd>\n"
       ]
      },
      {
       "output_type": "stream",
       "stream": "stdout",
       "text": [
        "\n",
        "p15140coll30 62 cpd\n",
        "\ufeff<?xml version=\"1.0\" encoding=\"utf-8\"?>\n",
        "<cpd>\n",
        "  <type>Document</type>\n",
        "  <page>\n",
        "    <pagetitle>Front image</pagetitle>\n",
        "    <pagefile>61.jp2</pagefile>\n",
        "    <pageptr>60</pageptr>\n",
        "  </page>\n",
        "  <page>\n",
        "    <pagetitle>Back image</pagetitle>\n",
        "    <pagefile>62.jp2</pagefile>\n",
        "    <pageptr>61</pageptr>\n",
        "  </page>\n",
        "</cpd>\n"
       ]
      },
      {
       "output_type": "stream",
       "stream": "stdout",
       "text": [
        "\n",
        "p15140coll30 38 cpd\n",
        "\ufeff<?xml version=\"1.0\" encoding=\"utf-8\"?>\n",
        "<cpd>\n",
        "  <type>Document</type>\n",
        "  <page>\n",
        "    <pagetitle>Front image</pagetitle>\n",
        "    <pagefile>37.jp2</pagefile>\n",
        "    <pageptr>36</pageptr>\n",
        "  </page>\n",
        "  <page>\n",
        "    <pagetitle>Back image</pagetitle>\n",
        "    <pagefile>38.jp2</pagefile>\n",
        "    <pageptr>37</pageptr>\n",
        "  </page>\n",
        "</cpd>\n"
       ]
      },
      {
       "output_type": "stream",
       "stream": "stdout",
       "text": [
        "\n",
        "p15140coll30 222 cpd\n",
        "\ufeff<?xml version=\"1.0\" encoding=\"utf-8\"?>\n",
        "<cpd>\n",
        "  <type>Document</type>\n",
        "  <page>\n",
        "    <pagetitle>Front image</pagetitle>\n",
        "    <pagefile>221.jp2</pagefile>\n",
        "    <pageptr>220</pageptr>\n",
        "  </page>\n",
        "  <page>\n",
        "    <pagetitle>Back image</pagetitle>\n",
        "    <pagefile>222.jp2</pagefile>\n",
        "    <pageptr>221</pageptr>\n",
        "  </page>\n",
        "</cpd>\n"
       ]
      },
      {
       "output_type": "stream",
       "stream": "stdout",
       "text": [
        "\n",
        "p15140coll30 83 cpd\n",
        "\ufeff<?xml version=\"1.0\" encoding=\"utf-8\"?>\n",
        "<cpd>\n",
        "  <type>Document</type>\n",
        "  <page>\n",
        "    <pagetitle>Front image</pagetitle>\n",
        "    <pagefile>82.jp2</pagefile>\n",
        "    <pageptr>81</pageptr>\n",
        "  </page>\n",
        "  <page>\n",
        "    <pagetitle>Back image</pagetitle>\n",
        "    <pagefile>83.jp2</pagefile>\n",
        "    <pageptr>82</pageptr>\n",
        "  </page>\n",
        "</cpd>\n"
       ]
      },
      {
       "output_type": "stream",
       "stream": "stdout",
       "text": [
        "\n",
        "p15140coll30 65 cpd\n",
        "\ufeff<?xml version=\"1.0\" encoding=\"utf-8\"?>\n",
        "<cpd>\n",
        "  <type>Document</type>\n",
        "  <page>\n",
        "    <pagetitle>Front image</pagetitle>\n",
        "    <pagefile>64.jp2</pagefile>\n",
        "    <pageptr>63</pageptr>\n",
        "  </page>\n",
        "  <page>\n",
        "    <pagetitle>Back image</pagetitle>\n",
        "    <pagefile>65.jp2</pagefile>\n",
        "    <pageptr>64</pageptr>\n",
        "  </page>\n",
        "</cpd>\n"
       ]
      },
      {
       "output_type": "stream",
       "stream": "stdout",
       "text": [
        "\n",
        "p15140coll30 107 cpd\n",
        "\ufeff<?xml version=\"1.0\" encoding=\"utf-8\"?>\n",
        "<cpd>\n",
        "  <type>Document</type>\n",
        "  <page>\n",
        "    <pagetitle>Front image</pagetitle>\n",
        "    <pagefile>106.jp2</pagefile>\n",
        "    <pageptr>105</pageptr>\n",
        "  </page>\n",
        "  <page>\n",
        "    <pagetitle>Back image</pagetitle>\n",
        "    <pagefile>107.jp2</pagefile>\n",
        "    <pageptr>106</pageptr>\n",
        "  </page>\n",
        "</cpd>\n"
       ]
      },
      {
       "output_type": "stream",
       "stream": "stdout",
       "text": [
        "\n",
        "p15140coll30 47 cpd\n",
        "\ufeff<?xml version=\"1.0\" encoding=\"utf-8\"?>\n",
        "<cpd>\n",
        "  <type>Document</type>\n",
        "  <page>\n",
        "    <pagetitle>Front image</pagetitle>\n",
        "    <pagefile>46.jp2</pagefile>\n",
        "    <pageptr>45</pageptr>\n",
        "  </page>\n",
        "  <page>\n",
        "    <pagetitle>Back image</pagetitle>\n",
        "    <pagefile>47.jp2</pagefile>\n",
        "    <pageptr>46</pageptr>\n",
        "  </page>\n",
        "</cpd>\n"
       ]
      },
      {
       "output_type": "stream",
       "stream": "stdout",
       "text": [
        "\n",
        "p15140coll30 92 cpd\n",
        "\ufeff<?xml version=\"1.0\" encoding=\"utf-8\"?>\n",
        "<cpd>\n",
        "  <type>Document</type>\n",
        "  <page>\n",
        "    <pagetitle>Front image</pagetitle>\n",
        "    <pagefile>91.jp2</pagefile>\n",
        "    <pageptr>90</pageptr>\n",
        "  </page>\n",
        "  <page>\n",
        "    <pagetitle>Back image</pagetitle>\n",
        "    <pagefile>92.jp2</pagefile>\n",
        "    <pageptr>91</pageptr>\n",
        "  </page>\n",
        "</cpd>\n"
       ]
      },
      {
       "output_type": "stream",
       "stream": "stdout",
       "text": [
        "\n",
        "p15140coll30 201 cpd\n",
        "\ufeff<?xml version=\"1.0\" encoding=\"utf-8\"?>\n",
        "<cpd>\n",
        "  <type>Document</type>\n",
        "  <page>\n",
        "    <pagetitle>Front image</pagetitle>\n",
        "    <pagefile>200.jp2</pagefile>\n",
        "    <pageptr>199</pageptr>\n",
        "  </page>\n",
        "  <page>\n",
        "    <pagetitle>Back image</pagetitle>\n",
        "    <pagefile>201.jp2</pagefile>\n",
        "    <pageptr>200</pageptr>\n",
        "  </page>\n",
        "</cpd>\n"
       ]
      },
      {
       "output_type": "stream",
       "stream": "stdout",
       "text": [
        "\n",
        "p15140coll30 23 cpd\n",
        "\ufeff<?xml version=\"1.0\" encoding=\"utf-8\"?>\n",
        "<cpd>\n",
        "  <type>Document</type>\n",
        "  <page>\n",
        "    <pagetitle>Front image</pagetitle>\n",
        "    <pagefile>22.jp2</pagefile>\n",
        "    <pageptr>21</pageptr>\n",
        "  </page>\n",
        "  <page>\n",
        "    <pagetitle>Back image</pagetitle>\n",
        "    <pagefile>23.jp2</pagefile>\n",
        "    <pageptr>22</pageptr>\n",
        "  </page>\n",
        "</cpd>\n"
       ]
      },
      {
       "output_type": "stream",
       "stream": "stdout",
       "text": [
        "\n",
        "p15140coll30 173 cpd\n",
        "\ufeff<?xml version=\"1.0\" encoding=\"utf-8\"?>\n",
        "<cpd>\n",
        "  <type>Document</type>\n",
        "  <page>\n",
        "    <pagetitle>Front image</pagetitle>\n",
        "    <pagefile>172.jp2</pagefile>\n",
        "    <pageptr>171</pageptr>\n",
        "  </page>\n",
        "  <page>\n",
        "    <pagetitle>Back image</pagetitle>\n",
        "    <pagefile>173.jp2</pagefile>\n",
        "    <pageptr>172</pageptr>\n",
        "  </page>\n",
        "</cpd>\n"
       ]
      },
      {
       "output_type": "stream",
       "stream": "stdout",
       "text": [
        "\n",
        "p15140coll30 98 cpd\n",
        "\ufeff<?xml version=\"1.0\" encoding=\"utf-8\"?>\n",
        "<cpd>\n",
        "  <type>Document</type>\n",
        "  <page>\n",
        "    <pagetitle>Front image</pagetitle>\n",
        "    <pagefile>97.jp2</pagefile>\n",
        "    <pageptr>96</pageptr>\n",
        "  </page>\n",
        "  <page>\n",
        "    <pagetitle>Back image</pagetitle>\n",
        "    <pagefile>98.jp2</pagefile>\n",
        "    <pageptr>97</pageptr>\n",
        "  </page>\n",
        "</cpd>\n"
       ]
      },
      {
       "output_type": "stream",
       "stream": "stdout",
       "text": [
        "\n",
        "p15140coll30 188 cpd\n",
        "\ufeff<?xml version=\"1.0\" encoding=\"utf-8\"?>\n",
        "<cpd>\n",
        "  <type>Document</type>\n",
        "  <page>\n",
        "    <pagetitle>Front image</pagetitle>\n",
        "    <pagefile>187.jp2</pagefile>\n",
        "    <pageptr>186</pageptr>\n",
        "  </page>\n",
        "  <page>\n",
        "    <pagetitle>Back image</pagetitle>\n",
        "    <pagefile>188.jp2</pagefile>\n",
        "    <pageptr>187</pageptr>\n",
        "  </page>\n",
        "</cpd>\n"
       ]
      },
      {
       "output_type": "stream",
       "stream": "stdout",
       "text": [
        "\n",
        "p15140coll30 110 cpd\n",
        "\ufeff<?xml version=\"1.0\" encoding=\"utf-8\"?>\n",
        "<cpd>\n",
        "  <type>Document</type>\n",
        "  <page>\n",
        "    <pagetitle>Front image</pagetitle>\n",
        "    <pagefile>109.jp2</pagefile>\n",
        "    <pageptr>108</pageptr>\n",
        "  </page>\n",
        "  <page>\n",
        "    <pagetitle>Back image</pagetitle>\n",
        "    <pagefile>110.jp2</pagefile>\n",
        "    <pageptr>109</pageptr>\n",
        "  </page>\n",
        "</cpd>\n"
       ]
      },
      {
       "output_type": "stream",
       "stream": "stdout",
       "text": [
        "\n",
        "p15140coll30 134 cpd\n",
        "\ufeff<?xml version=\"1.0\" encoding=\"utf-8\"?>\n",
        "<cpd>\n",
        "  <type>Document</type>\n",
        "  <page>\n",
        "    <pagetitle>Front image</pagetitle>\n",
        "    <pagefile>133.jp2</pagefile>\n",
        "    <pageptr>132</pageptr>\n",
        "  </page>\n",
        "  <page>\n",
        "    <pagetitle>Back image</pagetitle>\n",
        "    <pagefile>134.jp2</pagefile>\n",
        "    <pageptr>133</pageptr>\n",
        "  </page>\n",
        "</cpd>\n"
       ]
      },
      {
       "output_type": "stream",
       "stream": "stdout",
       "text": [
        "\n",
        "p15140coll30 50 cpd\n",
        "\ufeff<?xml version=\"1.0\" encoding=\"utf-8\"?>\n",
        "<cpd>\n",
        "  <type>Document</type>\n",
        "  <page>\n",
        "    <pagetitle>Front image</pagetitle>\n",
        "    <pagefile>49.jp2</pagefile>\n",
        "    <pageptr>48</pageptr>\n",
        "  </page>\n",
        "  <page>\n",
        "    <pagetitle>Back image</pagetitle>\n",
        "    <pagefile>50.jp2</pagefile>\n",
        "    <pageptr>49</pageptr>\n",
        "  </page>\n",
        "</cpd>\n"
       ]
      },
      {
       "output_type": "stream",
       "stream": "stdout",
       "text": [
        "\n",
        "p15140coll30 59 cpd\n",
        "\ufeff<?xml version=\"1.0\" encoding=\"utf-8\"?>\n",
        "<cpd>\n",
        "  <type>Document</type>\n",
        "  <page>\n",
        "    <pagetitle>Front image</pagetitle>\n",
        "    <pagefile>58.jp2</pagefile>\n",
        "    <pageptr>57</pageptr>\n",
        "  </page>\n",
        "  <page>\n",
        "    <pagetitle>Back image</pagetitle>\n",
        "    <pagefile>59.jp2</pagefile>\n",
        "    <pageptr>58</pageptr>\n",
        "  </page>\n",
        "</cpd>\n"
       ]
      },
      {
       "output_type": "stream",
       "stream": "stdout",
       "text": [
        "\n",
        "p15140coll30 195 cpd\n",
        "\ufeff<?xml version=\"1.0\" encoding=\"utf-8\"?>\n",
        "<cpd>\n",
        "  <type>Document</type>\n",
        "  <page>\n",
        "    <pagetitle>Front image</pagetitle>\n",
        "    <pagefile>194.jp2</pagefile>\n",
        "    <pageptr>193</pageptr>\n",
        "  </page>\n",
        "  <page>\n",
        "    <pagetitle>Back image</pagetitle>\n",
        "    <pagefile>195.jp2</pagefile>\n",
        "    <pageptr>194</pageptr>\n",
        "  </page>\n",
        "</cpd>\n"
       ]
      },
      {
       "output_type": "stream",
       "stream": "stdout",
       "text": [
        "\n",
        "p15140coll30 161 cpd\n",
        "\ufeff<?xml version=\"1.0\" encoding=\"utf-8\"?>\n",
        "<cpd>\n",
        "  <type>Document</type>\n",
        "  <page>\n",
        "    <pagetitle>Front image1</pagetitle>\n",
        "    <pagefile>160.jp2</pagefile>\n",
        "    <pageptr>159</pageptr>\n",
        "  </page>\n",
        "  <page>\n",
        "    <pagetitle>Front image2</pagetitle>\n",
        "    <pagefile>161.jp2</pagefile>\n",
        "    <pageptr>160</pageptr>\n",
        "  </page>\n",
        "</cpd>\n"
       ]
      },
      {
       "output_type": "stream",
       "stream": "stdout",
       "text": [
        "\n",
        "p15140coll30 170 cpd\n",
        "\ufeff<?xml version=\"1.0\" encoding=\"utf-8\"?>\n",
        "<cpd>\n",
        "  <type>Document</type>\n",
        "  <page>\n",
        "    <pagetitle>Front image</pagetitle>\n",
        "    <pagefile>169.jp2</pagefile>\n",
        "    <pageptr>168</pageptr>\n",
        "  </page>\n",
        "  <page>\n",
        "    <pagetitle>Back image</pagetitle>\n",
        "    <pagefile>170.jp2</pagefile>\n",
        "    <pageptr>169</pageptr>\n",
        "  </page>\n",
        "</cpd>\n"
       ]
      },
      {
       "output_type": "stream",
       "stream": "stdout",
       "text": [
        "\n",
        "p15140coll30 219 cpd\n",
        "\ufeff<?xml version=\"1.0\" encoding=\"utf-8\"?>\n",
        "<cpd>\n",
        "  <type>Document</type>\n",
        "  <page>\n",
        "    <pagetitle>Front image</pagetitle>\n",
        "    <pagefile>218.jp2</pagefile>\n",
        "    <pageptr>217</pageptr>\n",
        "  </page>\n",
        "  <page>\n",
        "    <pagetitle>Back image</pagetitle>\n",
        "    <pagefile>219.jp2</pagefile>\n",
        "    <pageptr>218</pageptr>\n",
        "  </page>\n",
        "</cpd>\n"
       ]
      },
      {
       "output_type": "stream",
       "stream": "stdout",
       "text": [
        "\n",
        "p15140coll30 152 cpd\n",
        "\ufeff<?xml version=\"1.0\" encoding=\"utf-8\"?>\n",
        "<cpd>\n",
        "  <type>Document</type>\n",
        "  <page>\n",
        "    <pagetitle>Front image</pagetitle>\n",
        "    <pagefile>151.jp2</pagefile>\n",
        "    <pageptr>150</pageptr>\n",
        "  </page>\n",
        "  <page>\n",
        "    <pagetitle>Back image</pagetitle>\n",
        "    <pagefile>152.jp2</pagefile>\n",
        "    <pageptr>151</pageptr>\n",
        "  </page>\n",
        "</cpd>\n"
       ]
      },
      {
       "output_type": "stream",
       "stream": "stdout",
       "text": [
        "\n",
        "p15140coll30 71 cpd\n",
        "\ufeff<?xml version=\"1.0\" encoding=\"utf-8\"?>\n",
        "<cpd>\n",
        "  <type>Document</type>\n",
        "  <page>\n",
        "    <pagetitle>Front image</pagetitle>\n",
        "    <pagefile>70.jp2</pagefile>\n",
        "    <pageptr>69</pageptr>\n",
        "  </page>\n",
        "  <page>\n",
        "    <pagetitle>Back image</pagetitle>\n",
        "    <pagefile>71.jp2</pagefile>\n",
        "    <pageptr>70</pageptr>\n",
        "  </page>\n",
        "</cpd>\n"
       ]
      },
      {
       "output_type": "stream",
       "stream": "stdout",
       "text": [
        "\n",
        "p15140coll30 140 cpd\n",
        "\ufeff<?xml version=\"1.0\" encoding=\"utf-8\"?>\n",
        "<cpd>\n",
        "  <type>Document</type>\n",
        "  <page>\n",
        "    <pagetitle>Front image</pagetitle>\n",
        "    <pagefile>139.jp2</pagefile>\n",
        "    <pageptr>138</pageptr>\n",
        "  </page>\n",
        "  <page>\n",
        "    <pagetitle>Back image</pagetitle>\n",
        "    <pagefile>140.jp2</pagefile>\n",
        "    <pageptr>139</pageptr>\n",
        "  </page>\n",
        "</cpd>\n"
       ]
      },
      {
       "ename": "KeyboardInterrupt",
       "evalue": "",
       "output_type": "pyerr",
       "traceback": [
        "\u001b[0;31m---------------------------------------------------------------------------\u001b[0m\n\u001b[0;31mKeyboardInterrupt\u001b[0m                         Traceback (most recent call last)",
        "\u001b[0;32m<ipython-input-189-a2d226aa62e5>\u001b[0m in \u001b[0;36m<module>\u001b[0;34m()\u001b[0m\n\u001b[1;32m      2\u001b[0m     \u001b[0mprint\u001b[0m\u001b[0;34m(\u001b[0m\u001b[0malias\u001b[0m\u001b[0;34m,\u001b[0m \u001b[0mpointer\u001b[0m\u001b[0;34m,\u001b[0m \u001b[0mfiletype\u001b[0m\u001b[0;34m)\u001b[0m\u001b[0;34m\u001b[0m\u001b[0m\n\u001b[1;32m      3\u001b[0m     \u001b[0;32mif\u001b[0m \u001b[0mfiletype\u001b[0m \u001b[0;34m==\u001b[0m \u001b[0;34m'cpd'\u001b[0m\u001b[0;34m:\u001b[0m\u001b[0;34m\u001b[0m\u001b[0m\n\u001b[0;32m----> 4\u001b[0;31m         \u001b[0mcollection_etree\u001b[0m\u001b[0;34m.\u001b[0m\u001b[0mappend\u001b[0m\u001b[0;34m(\u001b[0m\u001b[0mxmlify_a_compound\u001b[0m\u001b[0;34m(\u001b[0m\u001b[0malias\u001b[0m\u001b[0;34m,\u001b[0m \u001b[0mpointer\u001b[0m\u001b[0;34m)\u001b[0m\u001b[0;34m)\u001b[0m\u001b[0;34m\u001b[0m\u001b[0m\n\u001b[0m\u001b[1;32m      5\u001b[0m     \u001b[0;32melse\u001b[0m\u001b[0;34m:\u001b[0m\u001b[0;34m\u001b[0m\u001b[0m\n\u001b[1;32m      6\u001b[0m         \u001b[0mitem_etree\u001b[0m \u001b[0;34m=\u001b[0m \u001b[0mxmlify_an_item\u001b[0m\u001b[0;34m(\u001b[0m\u001b[0malias\u001b[0m\u001b[0;34m,\u001b[0m \u001b[0mpointer\u001b[0m\u001b[0;34m,\u001b[0m \u001b[0mfiletype\u001b[0m\u001b[0;34m)\u001b[0m\u001b[0;34m\u001b[0m\u001b[0m\n",
        "\u001b[0;32m<ipython-input-148-a6d9fd0c1293>\u001b[0m in \u001b[0;36mxmlify_a_compound\u001b[0;34m(alias, pointer)\u001b[0m\n\u001b[1;32m      1\u001b[0m \u001b[0;32mdef\u001b[0m \u001b[0mxmlify_a_compound\u001b[0m\u001b[0;34m(\u001b[0m\u001b[0malias\u001b[0m\u001b[0;34m,\u001b[0m \u001b[0mpointer\u001b[0m\u001b[0;34m)\u001b[0m\u001b[0;34m:\u001b[0m\u001b[0;34m\u001b[0m\u001b[0m\n\u001b[0;32m----> 2\u001b[0;31m     \u001b[0mmeta_text\u001b[0m \u001b[0;34m=\u001b[0m \u001b[0mp\u001b[0m\u001b[0;34m.\u001b[0m\u001b[0mretrieve_compound_object\u001b[0m\u001b[0;34m(\u001b[0m\u001b[0malias\u001b[0m\u001b[0;34m,\u001b[0m \u001b[0mpointer\u001b[0m\u001b[0;34m)\u001b[0m\u001b[0;34m\u001b[0m\u001b[0m\n\u001b[0m\u001b[1;32m      3\u001b[0m     \u001b[0mmeta_etree\u001b[0m \u001b[0;34m=\u001b[0m \u001b[0mET\u001b[0m\u001b[0;34m.\u001b[0m\u001b[0mfromstring\u001b[0m\u001b[0;34m(\u001b[0m\u001b[0mmeta_text\u001b[0m\u001b[0;34m)\u001b[0m\u001b[0;34m\u001b[0m\u001b[0m\n\u001b[1;32m      4\u001b[0m     \u001b[0mprint\u001b[0m\u001b[0;34m(\u001b[0m\u001b[0mmeta_text\u001b[0m\u001b[0;34m)\u001b[0m\u001b[0;34m\u001b[0m\u001b[0m\n\u001b[1;32m      5\u001b[0m     \u001b[0;32mreturn\u001b[0m \u001b[0mmeta_etree\u001b[0m\u001b[0;34m\u001b[0m\u001b[0m\n",
        "\u001b[0;32m/home/james/Desktop/lsu_projects/cdm_xporter/pull_from_cdm.py\u001b[0m in \u001b[0;36mretrieve_compound_object\u001b[0;34m(collection_alias, item_pointer)\u001b[0m\n\u001b[1;32m     38\u001b[0m \u001b[0;32mdef\u001b[0m \u001b[0mretrieve_compound_object\u001b[0m\u001b[0;34m(\u001b[0m\u001b[0mcollection_alias\u001b[0m\u001b[0;34m,\u001b[0m \u001b[0mitem_pointer\u001b[0m\u001b[0;34m)\u001b[0m\u001b[0;34m:\u001b[0m\u001b[0;34m\u001b[0m\u001b[0m\n\u001b[1;32m     39\u001b[0m     \u001b[0murl\u001b[0m \u001b[0;34m=\u001b[0m \u001b[0;34m'https://server16313.contentdm.oclc.org/dmwebservices/index.php?q=dmGetCompoundObjectInfo/{}/{}/xml'\u001b[0m\u001b[0;34m.\u001b[0m\u001b[0mformat\u001b[0m\u001b[0;34m(\u001b[0m\u001b[0mcollection_alias\u001b[0m\u001b[0;34m,\u001b[0m \u001b[0mitem_pointer\u001b[0m\u001b[0;34m)\u001b[0m\u001b[0;34m\u001b[0m\u001b[0m\n\u001b[0;32m---> 40\u001b[0;31m     \u001b[0;32mwith\u001b[0m \u001b[0murllib\u001b[0m\u001b[0;34m.\u001b[0m\u001b[0mrequest\u001b[0m\u001b[0;34m.\u001b[0m\u001b[0murlopen\u001b[0m\u001b[0;34m(\u001b[0m\u001b[0murl\u001b[0m\u001b[0;34m)\u001b[0m \u001b[0;32mas\u001b[0m \u001b[0mresponse\u001b[0m\u001b[0;34m:\u001b[0m\u001b[0;34m\u001b[0m\u001b[0m\n\u001b[0m\u001b[1;32m     41\u001b[0m         \u001b[0;32mreturn\u001b[0m \u001b[0mresponse\u001b[0m\u001b[0;34m.\u001b[0m\u001b[0mread\u001b[0m\u001b[0;34m(\u001b[0m\u001b[0;34m)\u001b[0m\u001b[0;34m.\u001b[0m\u001b[0mdecode\u001b[0m\u001b[0;34m(\u001b[0m\u001b[0mencoding\u001b[0m\u001b[0;34m=\u001b[0m\u001b[0;34m'utf-8'\u001b[0m\u001b[0;34m)\u001b[0m\u001b[0;34m\u001b[0m\u001b[0m\n\u001b[1;32m     42\u001b[0m \u001b[0;34m\u001b[0m\u001b[0m\n",
        "\u001b[0;32m/usr/lib/python3.4/urllib/request.py\u001b[0m in \u001b[0;36murlopen\u001b[0;34m(url, data, timeout, cafile, capath, cadefault, context)\u001b[0m\n\u001b[1;32m    159\u001b[0m     \u001b[0;32melse\u001b[0m\u001b[0;34m:\u001b[0m\u001b[0;34m\u001b[0m\u001b[0m\n\u001b[1;32m    160\u001b[0m         \u001b[0mopener\u001b[0m \u001b[0;34m=\u001b[0m \u001b[0m_opener\u001b[0m\u001b[0;34m\u001b[0m\u001b[0m\n\u001b[0;32m--> 161\u001b[0;31m     \u001b[0;32mreturn\u001b[0m \u001b[0mopener\u001b[0m\u001b[0;34m.\u001b[0m\u001b[0mopen\u001b[0m\u001b[0;34m(\u001b[0m\u001b[0murl\u001b[0m\u001b[0;34m,\u001b[0m \u001b[0mdata\u001b[0m\u001b[0;34m,\u001b[0m \u001b[0mtimeout\u001b[0m\u001b[0;34m)\u001b[0m\u001b[0;34m\u001b[0m\u001b[0m\n\u001b[0m\u001b[1;32m    162\u001b[0m \u001b[0;34m\u001b[0m\u001b[0m\n\u001b[1;32m    163\u001b[0m \u001b[0;32mdef\u001b[0m \u001b[0minstall_opener\u001b[0m\u001b[0;34m(\u001b[0m\u001b[0mopener\u001b[0m\u001b[0;34m)\u001b[0m\u001b[0;34m:\u001b[0m\u001b[0;34m\u001b[0m\u001b[0m\n",
        "\u001b[0;32m/usr/lib/python3.4/urllib/request.py\u001b[0m in \u001b[0;36mopen\u001b[0;34m(self, fullurl, data, timeout)\u001b[0m\n\u001b[1;32m    461\u001b[0m             \u001b[0mreq\u001b[0m \u001b[0;34m=\u001b[0m \u001b[0mmeth\u001b[0m\u001b[0;34m(\u001b[0m\u001b[0mreq\u001b[0m\u001b[0;34m)\u001b[0m\u001b[0;34m\u001b[0m\u001b[0m\n\u001b[1;32m    462\u001b[0m \u001b[0;34m\u001b[0m\u001b[0m\n\u001b[0;32m--> 463\u001b[0;31m         \u001b[0mresponse\u001b[0m \u001b[0;34m=\u001b[0m \u001b[0mself\u001b[0m\u001b[0;34m.\u001b[0m\u001b[0m_open\u001b[0m\u001b[0;34m(\u001b[0m\u001b[0mreq\u001b[0m\u001b[0;34m,\u001b[0m \u001b[0mdata\u001b[0m\u001b[0;34m)\u001b[0m\u001b[0;34m\u001b[0m\u001b[0m\n\u001b[0m\u001b[1;32m    464\u001b[0m \u001b[0;34m\u001b[0m\u001b[0m\n\u001b[1;32m    465\u001b[0m         \u001b[0;31m# post-process response\u001b[0m\u001b[0;34m\u001b[0m\u001b[0;34m\u001b[0m\u001b[0m\n",
        "\u001b[0;32m/usr/lib/python3.4/urllib/request.py\u001b[0m in \u001b[0;36m_open\u001b[0;34m(self, req, data)\u001b[0m\n\u001b[1;32m    479\u001b[0m         \u001b[0mprotocol\u001b[0m \u001b[0;34m=\u001b[0m \u001b[0mreq\u001b[0m\u001b[0;34m.\u001b[0m\u001b[0mtype\u001b[0m\u001b[0;34m\u001b[0m\u001b[0m\n\u001b[1;32m    480\u001b[0m         result = self._call_chain(self.handle_open, protocol, protocol +\n\u001b[0;32m--> 481\u001b[0;31m                                   '_open', req)\n\u001b[0m\u001b[1;32m    482\u001b[0m         \u001b[0;32mif\u001b[0m \u001b[0mresult\u001b[0m\u001b[0;34m:\u001b[0m\u001b[0;34m\u001b[0m\u001b[0m\n\u001b[1;32m    483\u001b[0m             \u001b[0;32mreturn\u001b[0m \u001b[0mresult\u001b[0m\u001b[0;34m\u001b[0m\u001b[0m\n",
        "\u001b[0;32m/usr/lib/python3.4/urllib/request.py\u001b[0m in \u001b[0;36m_call_chain\u001b[0;34m(self, chain, kind, meth_name, *args)\u001b[0m\n\u001b[1;32m    439\u001b[0m         \u001b[0;32mfor\u001b[0m \u001b[0mhandler\u001b[0m \u001b[0;32min\u001b[0m \u001b[0mhandlers\u001b[0m\u001b[0;34m:\u001b[0m\u001b[0;34m\u001b[0m\u001b[0m\n\u001b[1;32m    440\u001b[0m             \u001b[0mfunc\u001b[0m \u001b[0;34m=\u001b[0m \u001b[0mgetattr\u001b[0m\u001b[0;34m(\u001b[0m\u001b[0mhandler\u001b[0m\u001b[0;34m,\u001b[0m \u001b[0mmeth_name\u001b[0m\u001b[0;34m)\u001b[0m\u001b[0;34m\u001b[0m\u001b[0m\n\u001b[0;32m--> 441\u001b[0;31m             \u001b[0mresult\u001b[0m \u001b[0;34m=\u001b[0m \u001b[0mfunc\u001b[0m\u001b[0;34m(\u001b[0m\u001b[0;34m*\u001b[0m\u001b[0margs\u001b[0m\u001b[0;34m)\u001b[0m\u001b[0;34m\u001b[0m\u001b[0m\n\u001b[0m\u001b[1;32m    442\u001b[0m             \u001b[0;32mif\u001b[0m \u001b[0mresult\u001b[0m \u001b[0;32mis\u001b[0m \u001b[0;32mnot\u001b[0m \u001b[0;32mNone\u001b[0m\u001b[0;34m:\u001b[0m\u001b[0;34m\u001b[0m\u001b[0m\n\u001b[1;32m    443\u001b[0m                 \u001b[0;32mreturn\u001b[0m \u001b[0mresult\u001b[0m\u001b[0;34m\u001b[0m\u001b[0m\n",
        "\u001b[0;32m/usr/lib/python3.4/urllib/request.py\u001b[0m in \u001b[0;36mhttps_open\u001b[0;34m(self, req)\u001b[0m\n\u001b[1;32m   1223\u001b[0m         \u001b[0;32mdef\u001b[0m \u001b[0mhttps_open\u001b[0m\u001b[0;34m(\u001b[0m\u001b[0mself\u001b[0m\u001b[0;34m,\u001b[0m \u001b[0mreq\u001b[0m\u001b[0;34m)\u001b[0m\u001b[0;34m:\u001b[0m\u001b[0;34m\u001b[0m\u001b[0m\n\u001b[1;32m   1224\u001b[0m             return self.do_open(http.client.HTTPSConnection, req,\n\u001b[0;32m-> 1225\u001b[0;31m                 context=self._context, check_hostname=self._check_hostname)\n\u001b[0m\u001b[1;32m   1226\u001b[0m \u001b[0;34m\u001b[0m\u001b[0m\n\u001b[1;32m   1227\u001b[0m         \u001b[0mhttps_request\u001b[0m \u001b[0;34m=\u001b[0m \u001b[0mAbstractHTTPHandler\u001b[0m\u001b[0;34m.\u001b[0m\u001b[0mdo_request_\u001b[0m\u001b[0;34m\u001b[0m\u001b[0m\n",
        "\u001b[0;32m/usr/lib/python3.4/urllib/request.py\u001b[0m in \u001b[0;36mdo_open\u001b[0;34m(self, http_class, req, **http_conn_args)\u001b[0m\n\u001b[1;32m   1183\u001b[0m             \u001b[0;32mexcept\u001b[0m \u001b[0mOSError\u001b[0m \u001b[0;32mas\u001b[0m \u001b[0merr\u001b[0m\u001b[0;34m:\u001b[0m \u001b[0;31m# timeout error\u001b[0m\u001b[0;34m\u001b[0m\u001b[0m\n\u001b[1;32m   1184\u001b[0m                 \u001b[0;32mraise\u001b[0m \u001b[0mURLError\u001b[0m\u001b[0;34m(\u001b[0m\u001b[0merr\u001b[0m\u001b[0;34m)\u001b[0m\u001b[0;34m\u001b[0m\u001b[0m\n\u001b[0;32m-> 1185\u001b[0;31m             \u001b[0mr\u001b[0m \u001b[0;34m=\u001b[0m \u001b[0mh\u001b[0m\u001b[0;34m.\u001b[0m\u001b[0mgetresponse\u001b[0m\u001b[0;34m(\u001b[0m\u001b[0;34m)\u001b[0m\u001b[0;34m\u001b[0m\u001b[0m\n\u001b[0m\u001b[1;32m   1186\u001b[0m         \u001b[0;32mexcept\u001b[0m\u001b[0;34m:\u001b[0m\u001b[0;34m\u001b[0m\u001b[0m\n\u001b[1;32m   1187\u001b[0m             \u001b[0mh\u001b[0m\u001b[0;34m.\u001b[0m\u001b[0mclose\u001b[0m\u001b[0;34m(\u001b[0m\u001b[0;34m)\u001b[0m\u001b[0;34m\u001b[0m\u001b[0m\n",
        "\u001b[0;32m/usr/lib/python3.4/http/client.py\u001b[0m in \u001b[0;36mgetresponse\u001b[0;34m(self)\u001b[0m\n\u001b[1;32m   1169\u001b[0m \u001b[0;34m\u001b[0m\u001b[0m\n\u001b[1;32m   1170\u001b[0m         \u001b[0;32mtry\u001b[0m\u001b[0;34m:\u001b[0m\u001b[0;34m\u001b[0m\u001b[0m\n\u001b[0;32m-> 1171\u001b[0;31m             \u001b[0mresponse\u001b[0m\u001b[0;34m.\u001b[0m\u001b[0mbegin\u001b[0m\u001b[0;34m(\u001b[0m\u001b[0;34m)\u001b[0m\u001b[0;34m\u001b[0m\u001b[0m\n\u001b[0m\u001b[1;32m   1172\u001b[0m             \u001b[0;32massert\u001b[0m \u001b[0mresponse\u001b[0m\u001b[0;34m.\u001b[0m\u001b[0mwill_close\u001b[0m \u001b[0;34m!=\u001b[0m \u001b[0m_UNKNOWN\u001b[0m\u001b[0;34m\u001b[0m\u001b[0m\n\u001b[1;32m   1173\u001b[0m             \u001b[0mself\u001b[0m\u001b[0;34m.\u001b[0m\u001b[0m__state\u001b[0m \u001b[0;34m=\u001b[0m \u001b[0m_CS_IDLE\u001b[0m\u001b[0;34m\u001b[0m\u001b[0m\n",
        "\u001b[0;32m/usr/lib/python3.4/http/client.py\u001b[0m in \u001b[0;36mbegin\u001b[0;34m(self)\u001b[0m\n\u001b[1;32m    349\u001b[0m         \u001b[0;31m# read until we get a non-100 response\u001b[0m\u001b[0;34m\u001b[0m\u001b[0;34m\u001b[0m\u001b[0m\n\u001b[1;32m    350\u001b[0m         \u001b[0;32mwhile\u001b[0m \u001b[0;32mTrue\u001b[0m\u001b[0;34m:\u001b[0m\u001b[0;34m\u001b[0m\u001b[0m\n\u001b[0;32m--> 351\u001b[0;31m             \u001b[0mversion\u001b[0m\u001b[0;34m,\u001b[0m \u001b[0mstatus\u001b[0m\u001b[0;34m,\u001b[0m \u001b[0mreason\u001b[0m \u001b[0;34m=\u001b[0m \u001b[0mself\u001b[0m\u001b[0;34m.\u001b[0m\u001b[0m_read_status\u001b[0m\u001b[0;34m(\u001b[0m\u001b[0;34m)\u001b[0m\u001b[0;34m\u001b[0m\u001b[0m\n\u001b[0m\u001b[1;32m    352\u001b[0m             \u001b[0;32mif\u001b[0m \u001b[0mstatus\u001b[0m \u001b[0;34m!=\u001b[0m \u001b[0mCONTINUE\u001b[0m\u001b[0;34m:\u001b[0m\u001b[0;34m\u001b[0m\u001b[0m\n\u001b[1;32m    353\u001b[0m                 \u001b[0;32mbreak\u001b[0m\u001b[0;34m\u001b[0m\u001b[0m\n",
        "\u001b[0;32m/usr/lib/python3.4/http/client.py\u001b[0m in \u001b[0;36m_read_status\u001b[0;34m(self)\u001b[0m\n\u001b[1;32m    311\u001b[0m \u001b[0;34m\u001b[0m\u001b[0m\n\u001b[1;32m    312\u001b[0m     \u001b[0;32mdef\u001b[0m \u001b[0m_read_status\u001b[0m\u001b[0;34m(\u001b[0m\u001b[0mself\u001b[0m\u001b[0;34m)\u001b[0m\u001b[0;34m:\u001b[0m\u001b[0;34m\u001b[0m\u001b[0m\n\u001b[0;32m--> 313\u001b[0;31m         \u001b[0mline\u001b[0m \u001b[0;34m=\u001b[0m \u001b[0mstr\u001b[0m\u001b[0;34m(\u001b[0m\u001b[0mself\u001b[0m\u001b[0;34m.\u001b[0m\u001b[0mfp\u001b[0m\u001b[0;34m.\u001b[0m\u001b[0mreadline\u001b[0m\u001b[0;34m(\u001b[0m\u001b[0m_MAXLINE\u001b[0m \u001b[0;34m+\u001b[0m \u001b[0;36m1\u001b[0m\u001b[0;34m)\u001b[0m\u001b[0;34m,\u001b[0m \u001b[0;34m\"iso-8859-1\"\u001b[0m\u001b[0;34m)\u001b[0m\u001b[0;34m\u001b[0m\u001b[0m\n\u001b[0m\u001b[1;32m    314\u001b[0m         \u001b[0;32mif\u001b[0m \u001b[0mlen\u001b[0m\u001b[0;34m(\u001b[0m\u001b[0mline\u001b[0m\u001b[0;34m)\u001b[0m \u001b[0;34m>\u001b[0m \u001b[0m_MAXLINE\u001b[0m\u001b[0;34m:\u001b[0m\u001b[0;34m\u001b[0m\u001b[0m\n\u001b[1;32m    315\u001b[0m             \u001b[0;32mraise\u001b[0m \u001b[0mLineTooLong\u001b[0m\u001b[0;34m(\u001b[0m\u001b[0;34m\"status line\"\u001b[0m\u001b[0;34m)\u001b[0m\u001b[0;34m\u001b[0m\u001b[0m\n",
        "\u001b[0;32m/usr/lib/python3.4/socket.py\u001b[0m in \u001b[0;36mreadinto\u001b[0;34m(self, b)\u001b[0m\n\u001b[1;32m    372\u001b[0m         \u001b[0;32mwhile\u001b[0m \u001b[0;32mTrue\u001b[0m\u001b[0;34m:\u001b[0m\u001b[0;34m\u001b[0m\u001b[0m\n\u001b[1;32m    373\u001b[0m             \u001b[0;32mtry\u001b[0m\u001b[0;34m:\u001b[0m\u001b[0;34m\u001b[0m\u001b[0m\n\u001b[0;32m--> 374\u001b[0;31m                 \u001b[0;32mreturn\u001b[0m \u001b[0mself\u001b[0m\u001b[0;34m.\u001b[0m\u001b[0m_sock\u001b[0m\u001b[0;34m.\u001b[0m\u001b[0mrecv_into\u001b[0m\u001b[0;34m(\u001b[0m\u001b[0mb\u001b[0m\u001b[0;34m)\u001b[0m\u001b[0;34m\u001b[0m\u001b[0m\n\u001b[0m\u001b[1;32m    375\u001b[0m             \u001b[0;32mexcept\u001b[0m \u001b[0mtimeout\u001b[0m\u001b[0;34m:\u001b[0m\u001b[0;34m\u001b[0m\u001b[0m\n\u001b[1;32m    376\u001b[0m                 \u001b[0mself\u001b[0m\u001b[0;34m.\u001b[0m\u001b[0m_timeout_occurred\u001b[0m \u001b[0;34m=\u001b[0m \u001b[0;32mTrue\u001b[0m\u001b[0;34m\u001b[0m\u001b[0m\n",
        "\u001b[0;32m/usr/lib/python3.4/ssl.py\u001b[0m in \u001b[0;36mrecv_into\u001b[0;34m(self, buffer, nbytes, flags)\u001b[0m\n\u001b[1;32m    767\u001b[0m                   \u001b[0;34m\"non-zero flags not allowed in calls to recv_into() on %s\"\u001b[0m \u001b[0;34m%\u001b[0m\u001b[0;34m\u001b[0m\u001b[0m\n\u001b[1;32m    768\u001b[0m                   self.__class__)\n\u001b[0;32m--> 769\u001b[0;31m             \u001b[0;32mreturn\u001b[0m \u001b[0mself\u001b[0m\u001b[0;34m.\u001b[0m\u001b[0mread\u001b[0m\u001b[0;34m(\u001b[0m\u001b[0mnbytes\u001b[0m\u001b[0;34m,\u001b[0m \u001b[0mbuffer\u001b[0m\u001b[0;34m)\u001b[0m\u001b[0;34m\u001b[0m\u001b[0m\n\u001b[0m\u001b[1;32m    770\u001b[0m         \u001b[0;32melse\u001b[0m\u001b[0;34m:\u001b[0m\u001b[0;34m\u001b[0m\u001b[0m\n\u001b[1;32m    771\u001b[0m             \u001b[0;32mreturn\u001b[0m \u001b[0msocket\u001b[0m\u001b[0;34m.\u001b[0m\u001b[0mrecv_into\u001b[0m\u001b[0;34m(\u001b[0m\u001b[0mself\u001b[0m\u001b[0;34m,\u001b[0m \u001b[0mbuffer\u001b[0m\u001b[0;34m,\u001b[0m \u001b[0mnbytes\u001b[0m\u001b[0;34m,\u001b[0m \u001b[0mflags\u001b[0m\u001b[0;34m)\u001b[0m\u001b[0;34m\u001b[0m\u001b[0m\n",
        "\u001b[0;32m/usr/lib/python3.4/ssl.py\u001b[0m in \u001b[0;36mread\u001b[0;34m(self, len, buffer)\u001b[0m\n\u001b[1;32m    639\u001b[0m         \u001b[0;32mtry\u001b[0m\u001b[0;34m:\u001b[0m\u001b[0;34m\u001b[0m\u001b[0m\n\u001b[1;32m    640\u001b[0m             \u001b[0;32mif\u001b[0m \u001b[0mbuffer\u001b[0m \u001b[0;32mis\u001b[0m \u001b[0;32mnot\u001b[0m \u001b[0;32mNone\u001b[0m\u001b[0;34m:\u001b[0m\u001b[0;34m\u001b[0m\u001b[0m\n\u001b[0;32m--> 641\u001b[0;31m                 \u001b[0mv\u001b[0m \u001b[0;34m=\u001b[0m \u001b[0mself\u001b[0m\u001b[0;34m.\u001b[0m\u001b[0m_sslobj\u001b[0m\u001b[0;34m.\u001b[0m\u001b[0mread\u001b[0m\u001b[0;34m(\u001b[0m\u001b[0mlen\u001b[0m\u001b[0;34m,\u001b[0m \u001b[0mbuffer\u001b[0m\u001b[0;34m)\u001b[0m\u001b[0;34m\u001b[0m\u001b[0m\n\u001b[0m\u001b[1;32m    642\u001b[0m             \u001b[0;32melse\u001b[0m\u001b[0;34m:\u001b[0m\u001b[0;34m\u001b[0m\u001b[0m\n\u001b[1;32m    643\u001b[0m                 \u001b[0mv\u001b[0m \u001b[0;34m=\u001b[0m \u001b[0mself\u001b[0m\u001b[0;34m.\u001b[0m\u001b[0m_sslobj\u001b[0m\u001b[0;34m.\u001b[0m\u001b[0mread\u001b[0m\u001b[0;34m(\u001b[0m\u001b[0mlen\u001b[0m \u001b[0;32mor\u001b[0m \u001b[0;36m1024\u001b[0m\u001b[0;34m)\u001b[0m\u001b[0;34m\u001b[0m\u001b[0m\n",
        "\u001b[0;31mKeyboardInterrupt\u001b[0m: "
       ]
      },
      {
       "output_type": "stream",
       "stream": "stdout",
       "text": [
        "\n",
        "p15140coll30 29 cpd\n"
       ]
      }
     ],
     "prompt_number": 189
    },
    {
     "cell_type": "code",
     "collapsed": false,
     "input": [
      "etree = xmlify.xmlify_a_compound(alias, '202')"
     ],
     "language": "python",
     "metadata": {},
     "outputs": [
      {
       "output_type": "stream",
       "stream": "stdout",
       "text": [
        "167 jpg\n",
        "168"
       ]
      },
      {
       "output_type": "stream",
       "stream": "stdout",
       "text": [
        " jpg\n",
        "169"
       ]
      },
      {
       "output_type": "stream",
       "stream": "stdout",
       "text": [
        " jpg\n",
        "170"
       ]
      },
      {
       "output_type": "stream",
       "stream": "stdout",
       "text": [
        " jpg\n",
        "171"
       ]
      },
      {
       "output_type": "stream",
       "stream": "stdout",
       "text": [
        " jpg\n",
        "172"
       ]
      },
      {
       "output_type": "stream",
       "stream": "stdout",
       "text": [
        " jpg\n",
        "173"
       ]
      },
      {
       "output_type": "stream",
       "stream": "stdout",
       "text": [
        " jpg\n",
        "174"
       ]
      },
      {
       "output_type": "stream",
       "stream": "stdout",
       "text": [
        " jpg\n",
        "175"
       ]
      },
      {
       "output_type": "stream",
       "stream": "stdout",
       "text": [
        " jpg\n",
        "176"
       ]
      },
      {
       "output_type": "stream",
       "stream": "stdout",
       "text": [
        " jpg\n",
        "177"
       ]
      },
      {
       "output_type": "stream",
       "stream": "stdout",
       "text": [
        " jpg\n",
        "178"
       ]
      },
      {
       "output_type": "stream",
       "stream": "stdout",
       "text": [
        " jpg\n",
        "179"
       ]
      },
      {
       "output_type": "stream",
       "stream": "stdout",
       "text": [
        " jpg\n",
        "180"
       ]
      },
      {
       "output_type": "stream",
       "stream": "stdout",
       "text": [
        " jpg\n",
        "181"
       ]
      },
      {
       "output_type": "stream",
       "stream": "stdout",
       "text": [
        " jpg\n",
        "182"
       ]
      },
      {
       "output_type": "stream",
       "stream": "stdout",
       "text": [
        " jpg\n",
        "183"
       ]
      },
      {
       "output_type": "stream",
       "stream": "stdout",
       "text": [
        " jpg\n",
        "184"
       ]
      },
      {
       "output_type": "stream",
       "stream": "stdout",
       "text": [
        " jpg\n",
        "185"
       ]
      },
      {
       "output_type": "stream",
       "stream": "stdout",
       "text": [
        " jpg\n",
        "186"
       ]
      },
      {
       "output_type": "stream",
       "stream": "stdout",
       "text": [
        " jpg\n",
        "187"
       ]
      },
      {
       "output_type": "stream",
       "stream": "stdout",
       "text": [
        " jpg\n",
        "188"
       ]
      },
      {
       "output_type": "stream",
       "stream": "stdout",
       "text": [
        " jpg\n",
        "189"
       ]
      },
      {
       "output_type": "stream",
       "stream": "stdout",
       "text": [
        " jpg\n",
        "190"
       ]
      },
      {
       "output_type": "stream",
       "stream": "stdout",
       "text": [
        " jpg\n",
        "191"
       ]
      },
      {
       "output_type": "stream",
       "stream": "stdout",
       "text": [
        " jpg\n",
        "192"
       ]
      },
      {
       "output_type": "stream",
       "stream": "stdout",
       "text": [
        " jpg\n",
        "193"
       ]
      },
      {
       "output_type": "stream",
       "stream": "stdout",
       "text": [
        " jpg\n",
        "194"
       ]
      },
      {
       "output_type": "stream",
       "stream": "stdout",
       "text": [
        " jpg\n",
        "195"
       ]
      },
      {
       "output_type": "stream",
       "stream": "stdout",
       "text": [
        " jpg\n",
        "196"
       ]
      },
      {
       "output_type": "stream",
       "stream": "stdout",
       "text": [
        " jpg\n",
        "197"
       ]
      },
      {
       "output_type": "stream",
       "stream": "stdout",
       "text": [
        " jpg\n",
        "198"
       ]
      },
      {
       "output_type": "stream",
       "stream": "stdout",
       "text": [
        " jpg\n",
        "199"
       ]
      },
      {
       "output_type": "stream",
       "stream": "stdout",
       "text": [
        " jpg\n",
        "200"
       ]
      },
      {
       "output_type": "stream",
       "stream": "stdout",
       "text": [
        " jpg\n",
        "201"
       ]
      },
      {
       "output_type": "stream",
       "stream": "stdout",
       "text": [
        " jpg\n",
        "202"
       ]
      },
      {
       "output_type": "stream",
       "stream": "stdout",
       "text": [
        " jpg\n"
       ]
      }
     ],
     "prompt_number": 181
    },
    {
     "cell_type": "code",
     "collapsed": false,
     "input": [
      "print([i.text for i in etree.findall('./')])\n",
      "for page_elem in etree.findall('.//page'):\n",
      "    file_ext = page_elem.find('./pagefile')\n",
      "    pointer = page_elem.find('./pageptr')\n",
      "    print(file_ext.text, pointer.text)"
     ],
     "language": "python",
     "metadata": {},
     "outputs": [
      {
       "output_type": "stream",
       "stream": "stdout",
       "text": [
        "['Monograph', '\\n']\n",
        "167.jpg 166\n",
        "168.jpg 167\n",
        "169.jpg 168\n",
        "170.jpg 169\n",
        "171.jpg 170\n",
        "172.jpg 171\n",
        "173.jpg 172\n",
        "174.jpg 173\n",
        "175.jpg 174\n",
        "176.jpg 175\n",
        "177.jpg 176\n",
        "178.jpg 177\n",
        "179.jpg 178\n",
        "180.jpg 179\n",
        "181.jpg 180\n",
        "182.jpg 181\n",
        "183.jpg 182\n",
        "184.jpg 183\n",
        "185.jpg 184\n",
        "186.jpg 185\n",
        "187.jpg 186\n",
        "188.jpg 187\n",
        "189.jpg 188\n",
        "190.jpg 189\n",
        "191.jpg 190\n",
        "192.jpg 191\n",
        "193.jpg 192\n",
        "194.jpg 193\n",
        "195.jpg 194\n",
        "196.jpg 195\n",
        "197.jpg 196\n",
        "198.jpg 197\n",
        "199.jpg 198\n",
        "200.jpg 199\n",
        "201.jpg 200\n",
        "202.jpg 201\n"
       ]
      }
     ],
     "prompt_number": 118
    },
    {
     "cell_type": "code",
     "collapsed": false,
     "input": [],
     "language": "python",
     "metadata": {},
     "outputs": [
      {
       "ename": "AttributeError",
       "evalue": "'xml.etree.ElementTree.Element' object has no attribute 'rfind'",
       "output_type": "pyerr",
       "traceback": [
        "\u001b[0;31m---------------------------------------------------------------------------\u001b[0m\n\u001b[0;31mAttributeError\u001b[0m                            Traceback (most recent call last)",
        "\u001b[0;32m<ipython-input-119-d2461342ba9b>\u001b[0m in \u001b[0;36m<module>\u001b[0;34m()\u001b[0m\n\u001b[1;32m      1\u001b[0m \u001b[0;32mfor\u001b[0m \u001b[0mfilename\u001b[0m \u001b[0;32min\u001b[0m \u001b[0ma_list\u001b[0m\u001b[0;34m:\u001b[0m\u001b[0;34m\u001b[0m\u001b[0m\n\u001b[0;32m----> 2\u001b[0;31m     \u001b[0mprint\u001b[0m\u001b[0;34m(\u001b[0m\u001b[0mos\u001b[0m\u001b[0;34m.\u001b[0m\u001b[0mpath\u001b[0m\u001b[0;34m.\u001b[0m\u001b[0msplitext\u001b[0m\u001b[0;34m(\u001b[0m\u001b[0mfilename\u001b[0m\u001b[0;34m)\u001b[0m\u001b[0;34m)\u001b[0m\u001b[0;34m\u001b[0m\u001b[0m\n\u001b[0m",
        "\u001b[0;32m/usr/lib/python3.4/posixpath.py\u001b[0m in \u001b[0;36msplitext\u001b[0;34m(p)\u001b[0m\n\u001b[1;32m    120\u001b[0m         \u001b[0msep\u001b[0m \u001b[0;34m=\u001b[0m \u001b[0;34m'/'\u001b[0m\u001b[0;34m\u001b[0m\u001b[0m\n\u001b[1;32m    121\u001b[0m         \u001b[0mextsep\u001b[0m \u001b[0;34m=\u001b[0m \u001b[0;34m'.'\u001b[0m\u001b[0;34m\u001b[0m\u001b[0m\n\u001b[0;32m--> 122\u001b[0;31m     \u001b[0;32mreturn\u001b[0m \u001b[0mgenericpath\u001b[0m\u001b[0;34m.\u001b[0m\u001b[0m_splitext\u001b[0m\u001b[0;34m(\u001b[0m\u001b[0mp\u001b[0m\u001b[0;34m,\u001b[0m \u001b[0msep\u001b[0m\u001b[0;34m,\u001b[0m \u001b[0;32mNone\u001b[0m\u001b[0;34m,\u001b[0m \u001b[0mextsep\u001b[0m\u001b[0;34m)\u001b[0m\u001b[0;34m\u001b[0m\u001b[0m\n\u001b[0m\u001b[1;32m    123\u001b[0m \u001b[0msplitext\u001b[0m\u001b[0;34m.\u001b[0m\u001b[0m__doc__\u001b[0m \u001b[0;34m=\u001b[0m \u001b[0mgenericpath\u001b[0m\u001b[0;34m.\u001b[0m\u001b[0m_splitext\u001b[0m\u001b[0;34m.\u001b[0m\u001b[0m__doc__\u001b[0m\u001b[0;34m\u001b[0m\u001b[0m\n\u001b[1;32m    124\u001b[0m \u001b[0;34m\u001b[0m\u001b[0m\n",
        "\u001b[0;32m/usr/lib/python3.4/genericpath.py\u001b[0m in \u001b[0;36m_splitext\u001b[0;34m(p, sep, altsep, extsep)\u001b[0m\n\u001b[1;32m    116\u001b[0m     \u001b[0;31m# NOTE: This code must work for text and bytes strings.\u001b[0m\u001b[0;34m\u001b[0m\u001b[0;34m\u001b[0m\u001b[0m\n\u001b[1;32m    117\u001b[0m \u001b[0;34m\u001b[0m\u001b[0m\n\u001b[0;32m--> 118\u001b[0;31m     \u001b[0msepIndex\u001b[0m \u001b[0;34m=\u001b[0m \u001b[0mp\u001b[0m\u001b[0;34m.\u001b[0m\u001b[0mrfind\u001b[0m\u001b[0;34m(\u001b[0m\u001b[0msep\u001b[0m\u001b[0;34m)\u001b[0m\u001b[0;34m\u001b[0m\u001b[0m\n\u001b[0m\u001b[1;32m    119\u001b[0m     \u001b[0;32mif\u001b[0m \u001b[0maltsep\u001b[0m\u001b[0;34m:\u001b[0m\u001b[0;34m\u001b[0m\u001b[0m\n\u001b[1;32m    120\u001b[0m         \u001b[0maltsepIndex\u001b[0m \u001b[0;34m=\u001b[0m \u001b[0mp\u001b[0m\u001b[0;34m.\u001b[0m\u001b[0mrfind\u001b[0m\u001b[0;34m(\u001b[0m\u001b[0maltsep\u001b[0m\u001b[0;34m)\u001b[0m\u001b[0;34m\u001b[0m\u001b[0m\n",
        "\u001b[0;31mAttributeError\u001b[0m: 'xml.etree.ElementTree.Element' object has no attribute 'rfind'"
       ]
      }
     ],
     "prompt_number": 119
    },
    {
     "cell_type": "code",
     "collapsed": false,
     "input": [
      "xmlify_a_compound(alias, '202')"
     ],
     "language": "python",
     "metadata": {},
     "outputs": [
      {
       "output_type": "stream",
       "stream": "stdout",
       "text": [
        "<?xml version=\"1.0\"?>\n",
        "<cpd>\n",
        "<type>Monograph</type>\n",
        "<node>\n",
        "<nodetitle>Photographs (prints). Miscellaneous, ca. 1918 - 1941, 1961</nodetitle>\n",
        "<page>\n",
        "  <pagetitle>0001</pagetitle>\n",
        "  <pagefile>167.jpg</pagefile>\n",
        "  <pageptr>166</pageptr>\n",
        "</page>\n",
        "<page>\n",
        "  <pagetitle>0002</pagetitle>\n",
        "  <pagefile>168.jpg</pagefile>\n",
        "  <pageptr>167</pageptr>\n",
        "</page>\n",
        "<page>\n",
        "  <pagetitle>0003</pagetitle>\n",
        "  <pagefile>169.jpg</pagefile>\n",
        "  <pageptr>168</pageptr>\n",
        "</page>\n",
        "<page>\n",
        "  <pagetitle>0004</pagetitle>\n",
        "  <pagefile>170.jpg</pagefile>\n",
        "  <pageptr>169</pageptr>\n",
        "</page>\n",
        "<page>\n",
        "  <pagetitle>0005</pagetitle>\n",
        "  <pagefile>171.jpg</pagefile>\n",
        "  <pageptr>170</pageptr>\n",
        "</page>\n",
        "<page>\n",
        "  <pagetitle>0006</pagetitle>\n",
        "  <pagefile>172.jpg</pagefile>\n",
        "  <pageptr>171</pageptr>\n",
        "</page>\n",
        "<page>\n",
        "  <pagetitle>0007</pagetitle>\n",
        "  <pagefile>173.jpg</pagefile>\n",
        "  <pageptr>172</pageptr>\n",
        "</page>\n",
        "<page>\n",
        "  <pagetitle>0008</pagetitle>\n",
        "  <pagefile>174.jpg</pagefile>\n",
        "  <pageptr>173</pageptr>\n",
        "</page>\n",
        "<page>\n",
        "  <pagetitle>0009</pagetitle>\n",
        "  <pagefile>175.jpg</pagefile>\n",
        "  <pageptr>174</pageptr>\n",
        "</page>\n",
        "<page>\n",
        "  <pagetitle>0010</pagetitle>\n",
        "  <pagefile>176.jpg</pagefile>\n",
        "  <pageptr>175</pageptr>\n",
        "</page>\n",
        "<page>\n",
        "  <pagetitle>0011</pagetitle>\n",
        "  <pagefile>177.jpg</pagefile>\n",
        "  <pageptr>176</pageptr>\n",
        "</page>\n",
        "<page>\n",
        "  <pagetitle>0012</pagetitle>\n",
        "  <pagefile>178.jpg</pagefile>\n",
        "  <pageptr>177</pageptr>\n",
        "</page>\n",
        "<page>\n",
        "  <pagetitle>0013</pagetitle>\n",
        "  <pagefile>179.jpg</pagefile>\n",
        "  <pageptr>178</pageptr>\n",
        "</page>\n",
        "<page>\n",
        "  <pagetitle>0014</pagetitle>\n",
        "  <pagefile>180.jpg</pagefile>\n",
        "  <pageptr>179</pageptr>\n",
        "</page>\n",
        "<page>\n",
        "  <pagetitle>0015</pagetitle>\n",
        "  <pagefile>181.jpg</pagefile>\n",
        "  <pageptr>180</pageptr>\n",
        "</page>\n",
        "<page>\n",
        "  <pagetitle>0016</pagetitle>\n",
        "  <pagefile>182.jpg</pagefile>\n",
        "  <pageptr>181</pageptr>\n",
        "</page>\n",
        "<page>\n",
        "  <pagetitle>0017</pagetitle>\n",
        "  <pagefile>183.jpg</pagefile>\n",
        "  <pageptr>182</pageptr>\n",
        "</page>\n",
        "<page>\n",
        "  <pagetitle>0018</pagetitle>\n",
        "  <pagefile>184.jpg</pagefile>\n",
        "  <pageptr>183</pageptr>\n",
        "</page>\n",
        "<page>\n",
        "  <pagetitle>0019</pagetitle>\n",
        "  <pagefile>185.jpg</pagefile>\n",
        "  <pageptr>184</pageptr>\n",
        "</page>\n",
        "<page>\n",
        "  <pagetitle>0020</pagetitle>\n",
        "  <pagefile>186.jpg</pagefile>\n",
        "  <pageptr>185</pageptr>\n",
        "</page>\n",
        "<page>\n",
        "  <pagetitle>0021</pagetitle>\n",
        "  <pagefile>187.jpg</pagefile>\n",
        "  <pageptr>186</pageptr>\n",
        "</page>\n",
        "<page>\n",
        "  <pagetitle>0022</pagetitle>\n",
        "  <pagefile>188.jpg</pagefile>\n",
        "  <pageptr>187</pageptr>\n",
        "</page>\n",
        "<page>\n",
        "  <pagetitle>0023</pagetitle>\n",
        "  <pagefile>189.jpg</pagefile>\n",
        "  <pageptr>188</pageptr>\n",
        "</page>\n",
        "<page>\n",
        "  <pagetitle>0024</pagetitle>\n",
        "  <pagefile>190.jpg</pagefile>\n",
        "  <pageptr>189</pageptr>\n",
        "</page>\n",
        "<page>\n",
        "  <pagetitle>0025</pagetitle>\n",
        "  <pagefile>191.jpg</pagefile>\n",
        "  <pageptr>190</pageptr>\n",
        "</page>\n",
        "<page>\n",
        "  <pagetitle>0026</pagetitle>\n",
        "  <pagefile>192.jpg</pagefile>\n",
        "  <pageptr>191</pageptr>\n",
        "</page>\n",
        "<page>\n",
        "  <pagetitle>0027</pagetitle>\n",
        "  <pagefile>193.jpg</pagefile>\n",
        "  <pageptr>192</pageptr>\n",
        "</page>\n",
        "<page>\n",
        "  <pagetitle>0028</pagetitle>\n",
        "  <pagefile>194.jpg</pagefile>\n",
        "  <pageptr>193</pageptr>\n",
        "</page>\n",
        "<page>\n",
        "  <pagetitle>0029</pagetitle>\n",
        "  <pagefile>195.jpg</pagefile>\n",
        "  <pageptr>194</pageptr>\n",
        "</page>\n",
        "<page>\n",
        "  <pagetitle>0030</pagetitle>\n",
        "  <pagefile>196.jpg</pagefile>\n",
        "  <pageptr>195</pageptr>\n",
        "</page>\n",
        "<page>\n",
        "  <pagetitle>0031</pagetitle>\n",
        "  <pagefile>197.jpg</pagefile>\n",
        "  <pageptr>196</pageptr>\n",
        "</page>\n",
        "<page>\n",
        "  <pagetitle>0032</pagetitle>\n",
        "  <pagefile>198.jpg</pagefile>\n",
        "  <pageptr>197</pageptr>\n",
        "</page>\n",
        "<page>\n",
        "  <pagetitle>0033</pagetitle>\n",
        "  <pagefile>199.jpg</pagefile>\n",
        "  <pageptr>198</pageptr>\n",
        "</page>\n",
        "<page>\n",
        "  <pagetitle>0034</pagetitle>\n",
        "  <pagefile>200.jpg</pagefile>\n",
        "  <pageptr>199</pageptr>\n",
        "</page>\n",
        "<page>\n",
        "  <pagetitle>0035</pagetitle>\n",
        "  <pagefile>201.jpg</pagefile>\n",
        "  <pageptr>200</pageptr>\n",
        "</page>\n",
        "<page>\n",
        "  <pagetitle>0036</pagetitle>\n",
        "  <pagefile>202.jpg</pagefile>\n",
        "  <pageptr>201</pageptr>\n",
        "</page>\n",
        "</node>\n",
        "</cpd>\n",
        "\n"
       ]
      },
      {
       "metadata": {},
       "output_type": "pyout",
       "prompt_number": 120,
       "text": [
        "<Element 'cpd' at 0x7f41a58e39a8>"
       ]
      }
     ],
     "prompt_number": 120
    },
    {
     "cell_type": "code",
     "collapsed": false,
     "input": [],
     "language": "python",
     "metadata": {},
     "outputs": []
    }
   ],
   "metadata": {}
  }
 ]
}